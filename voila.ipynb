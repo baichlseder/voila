{
  "nbformat": 4,
  "nbformat_minor": 0,
  "metadata": {
    "colab": {
      "name": "voila.ipynb",
      "provenance": [],
      "collapsed_sections": [],
      "toc_visible": true,
      "mount_file_id": "1G5d_CqAfO0DlU0qWoxTZeDL7LtwcKtzS",
      "authorship_tag": "ABX9TyN4mKgmeyfDp99X9km7qqtp",
      "include_colab_link": true
    },
    "kernelspec": {
      "name": "python3",
      "display_name": "Python 3"
    },
    "language_info": {
      "name": "python"
    },
    "widgets": {
      "application/vnd.jupyter.widget-state+json": {
        "ec4b1fdd10f845f08ca7891f00831035": {
          "model_module": "@jupyter-widgets/controls",
          "model_name": "VBoxModel",
          "state": {
            "_view_name": "VBoxView",
            "_dom_classes": [],
            "_model_name": "VBoxModel",
            "_view_module": "@jupyter-widgets/controls",
            "_model_module_version": "1.5.0",
            "_view_count": null,
            "_view_module_version": "1.5.0",
            "box_style": "",
            "layout": "IPY_MODEL_e255700e119f48f88fc85f7e347e07ce",
            "_model_module": "@jupyter-widgets/controls",
            "children": [
              "IPY_MODEL_dbaac4fca3834e0f8a11c0f273ea79c9",
              "IPY_MODEL_789b815f869044fb922567071da9555c",
              "IPY_MODEL_8959d4021ed94ce593a6f63b85da62fa",
              "IPY_MODEL_3f483274b8d0493ba4eb8675fa903470",
              "IPY_MODEL_46d3088fa395422aaaf835d8d9a128ce"
            ]
          }
        },
        "e255700e119f48f88fc85f7e347e07ce": {
          "model_module": "@jupyter-widgets/base",
          "model_name": "LayoutModel",
          "state": {
            "_view_name": "LayoutView",
            "grid_template_rows": null,
            "right": null,
            "justify_content": null,
            "_view_module": "@jupyter-widgets/base",
            "overflow": null,
            "_model_module_version": "1.2.0",
            "_view_count": null,
            "flex_flow": null,
            "width": null,
            "min_width": null,
            "border": null,
            "align_items": null,
            "bottom": null,
            "_model_module": "@jupyter-widgets/base",
            "top": null,
            "grid_column": null,
            "overflow_y": null,
            "overflow_x": null,
            "grid_auto_flow": null,
            "grid_area": null,
            "grid_template_columns": null,
            "flex": null,
            "_model_name": "LayoutModel",
            "justify_items": null,
            "grid_row": null,
            "max_height": null,
            "align_content": null,
            "visibility": null,
            "align_self": null,
            "height": null,
            "min_height": null,
            "padding": null,
            "grid_auto_rows": null,
            "grid_gap": null,
            "max_width": null,
            "order": null,
            "_view_module_version": "1.2.0",
            "grid_template_areas": null,
            "object_position": null,
            "object_fit": null,
            "grid_auto_columns": null,
            "margin": null,
            "display": null,
            "left": null
          }
        },
        "dbaac4fca3834e0f8a11c0f273ea79c9": {
          "model_module": "@jupyter-widgets/controls",
          "model_name": "LabelModel",
          "state": {
            "_view_name": "LabelView",
            "style": "IPY_MODEL_4b43ede92f31427a8a82a331cd0bb134",
            "_dom_classes": [],
            "description": "",
            "_model_name": "LabelModel",
            "placeholder": "​",
            "_view_module": "@jupyter-widgets/controls",
            "_model_module_version": "1.5.0",
            "value": "Select your number!",
            "_view_count": null,
            "_view_module_version": "1.5.0",
            "description_tooltip": null,
            "_model_module": "@jupyter-widgets/controls",
            "layout": "IPY_MODEL_e8eb8fea321542a0b2e61b8e21594ea9"
          }
        },
        "789b815f869044fb922567071da9555c": {
          "model_module": "@jupyter-widgets/controls",
          "model_name": "FileUploadModel",
          "state": {
            "_view_name": "FileUploadView",
            "_counter": 1,
            "style": "IPY_MODEL_3081571e03c74e6890f4435d5657375c",
            "_dom_classes": [],
            "description": "Upload",
            "multiple": false,
            "_model_name": "FileUploadModel",
            "data": [
              null
            ],
            "button_style": "",
            "_view_module": "@jupyter-widgets/controls",
            "_model_module_version": "1.5.0",
            "accept": "",
            "_view_count": null,
            "disabled": false,
            "_view_module_version": "1.5.0",
            "error": "",
            "description_tooltip": null,
            "metadata": [
              {
                "name": "8.PNG",
                "type": "image/png",
                "size": 125476,
                "lastModified": 1618499211644
              }
            ],
            "_model_module": "@jupyter-widgets/controls",
            "layout": "IPY_MODEL_c7a6a9c4afcd47f2a437dd20d23a2139",
            "icon": "upload"
          }
        },
        "8959d4021ed94ce593a6f63b85da62fa": {
          "model_module": "@jupyter-widgets/controls",
          "model_name": "ButtonModel",
          "state": {
            "_view_name": "ButtonView",
            "style": "IPY_MODEL_33c9813d57884cb88c0688373a0f27f6",
            "_dom_classes": [],
            "description": "Classify",
            "_model_name": "ButtonModel",
            "button_style": "",
            "_view_module": "@jupyter-widgets/controls",
            "_model_module_version": "1.5.0",
            "tooltip": "",
            "_view_count": null,
            "disabled": false,
            "_view_module_version": "1.5.0",
            "layout": "IPY_MODEL_346a8c62d7394f91988142d95bfe8fb0",
            "_model_module": "@jupyter-widgets/controls",
            "icon": ""
          }
        },
        "3f483274b8d0493ba4eb8675fa903470": {
          "model_module": "@jupyter-widgets/output",
          "model_name": "OutputModel",
          "state": {
            "_view_name": "OutputView",
            "msg_id": "",
            "_dom_classes": [],
            "_model_name": "OutputModel",
            "outputs": [
              {
                "output_type": "display_data",
                "metadata": {
                  "tags": []
                },
                "image/png": "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\n",
                "text/plain": "<PIL.Image.Image image mode=RGB size=126x128 at 0x7F166ACD9C50>"
              }
            ],
            "_view_module": "@jupyter-widgets/output",
            "_model_module_version": "1.0.0",
            "_view_count": null,
            "_view_module_version": "1.0.0",
            "layout": "IPY_MODEL_d4c9cac92aca4b569b0a0c51e1570bda",
            "_model_module": "@jupyter-widgets/output"
          }
        },
        "46d3088fa395422aaaf835d8d9a128ce": {
          "model_module": "@jupyter-widgets/controls",
          "model_name": "LabelModel",
          "state": {
            "_view_name": "LabelView",
            "style": "IPY_MODEL_9f99136f0ad146a49ee7a7f5e0c47f62",
            "_dom_classes": [],
            "description": "",
            "_model_name": "LabelModel",
            "placeholder": "​",
            "_view_module": "@jupyter-widgets/controls",
            "_model_module_version": "1.5.0",
            "value": "Prediction: 8; Probability: 1.0000",
            "_view_count": null,
            "_view_module_version": "1.5.0",
            "description_tooltip": null,
            "_model_module": "@jupyter-widgets/controls",
            "layout": "IPY_MODEL_64cbba86d8624128a0729ca260c5c674"
          }
        },
        "4b43ede92f31427a8a82a331cd0bb134": {
          "model_module": "@jupyter-widgets/controls",
          "model_name": "DescriptionStyleModel",
          "state": {
            "_view_name": "StyleView",
            "_model_name": "DescriptionStyleModel",
            "description_width": "",
            "_view_module": "@jupyter-widgets/base",
            "_model_module_version": "1.5.0",
            "_view_count": null,
            "_view_module_version": "1.2.0",
            "_model_module": "@jupyter-widgets/controls"
          }
        },
        "e8eb8fea321542a0b2e61b8e21594ea9": {
          "model_module": "@jupyter-widgets/base",
          "model_name": "LayoutModel",
          "state": {
            "_view_name": "LayoutView",
            "grid_template_rows": null,
            "right": null,
            "justify_content": null,
            "_view_module": "@jupyter-widgets/base",
            "overflow": null,
            "_model_module_version": "1.2.0",
            "_view_count": null,
            "flex_flow": null,
            "width": null,
            "min_width": null,
            "border": null,
            "align_items": null,
            "bottom": null,
            "_model_module": "@jupyter-widgets/base",
            "top": null,
            "grid_column": null,
            "overflow_y": null,
            "overflow_x": null,
            "grid_auto_flow": null,
            "grid_area": null,
            "grid_template_columns": null,
            "flex": null,
            "_model_name": "LayoutModel",
            "justify_items": null,
            "grid_row": null,
            "max_height": null,
            "align_content": null,
            "visibility": null,
            "align_self": null,
            "height": null,
            "min_height": null,
            "padding": null,
            "grid_auto_rows": null,
            "grid_gap": null,
            "max_width": null,
            "order": null,
            "_view_module_version": "1.2.0",
            "grid_template_areas": null,
            "object_position": null,
            "object_fit": null,
            "grid_auto_columns": null,
            "margin": null,
            "display": null,
            "left": null
          }
        },
        "3081571e03c74e6890f4435d5657375c": {
          "model_module": "@jupyter-widgets/controls",
          "model_name": "ButtonStyleModel",
          "state": {
            "_view_name": "StyleView",
            "_model_name": "ButtonStyleModel",
            "_view_module": "@jupyter-widgets/base",
            "_model_module_version": "1.5.0",
            "_view_count": null,
            "button_color": null,
            "font_weight": "",
            "_view_module_version": "1.2.0",
            "_model_module": "@jupyter-widgets/controls"
          }
        },
        "c7a6a9c4afcd47f2a437dd20d23a2139": {
          "model_module": "@jupyter-widgets/base",
          "model_name": "LayoutModel",
          "state": {
            "_view_name": "LayoutView",
            "grid_template_rows": null,
            "right": null,
            "justify_content": null,
            "_view_module": "@jupyter-widgets/base",
            "overflow": null,
            "_model_module_version": "1.2.0",
            "_view_count": null,
            "flex_flow": null,
            "width": null,
            "min_width": null,
            "border": null,
            "align_items": null,
            "bottom": null,
            "_model_module": "@jupyter-widgets/base",
            "top": null,
            "grid_column": null,
            "overflow_y": null,
            "overflow_x": null,
            "grid_auto_flow": null,
            "grid_area": null,
            "grid_template_columns": null,
            "flex": null,
            "_model_name": "LayoutModel",
            "justify_items": null,
            "grid_row": null,
            "max_height": null,
            "align_content": null,
            "visibility": null,
            "align_self": null,
            "height": null,
            "min_height": null,
            "padding": null,
            "grid_auto_rows": null,
            "grid_gap": null,
            "max_width": null,
            "order": null,
            "_view_module_version": "1.2.0",
            "grid_template_areas": null,
            "object_position": null,
            "object_fit": null,
            "grid_auto_columns": null,
            "margin": null,
            "display": null,
            "left": null
          }
        },
        "33c9813d57884cb88c0688373a0f27f6": {
          "model_module": "@jupyter-widgets/controls",
          "model_name": "ButtonStyleModel",
          "state": {
            "_view_name": "StyleView",
            "_model_name": "ButtonStyleModel",
            "_view_module": "@jupyter-widgets/base",
            "_model_module_version": "1.5.0",
            "_view_count": null,
            "button_color": null,
            "font_weight": "",
            "_view_module_version": "1.2.0",
            "_model_module": "@jupyter-widgets/controls"
          }
        },
        "346a8c62d7394f91988142d95bfe8fb0": {
          "model_module": "@jupyter-widgets/base",
          "model_name": "LayoutModel",
          "state": {
            "_view_name": "LayoutView",
            "grid_template_rows": null,
            "right": null,
            "justify_content": null,
            "_view_module": "@jupyter-widgets/base",
            "overflow": null,
            "_model_module_version": "1.2.0",
            "_view_count": null,
            "flex_flow": null,
            "width": null,
            "min_width": null,
            "border": null,
            "align_items": null,
            "bottom": null,
            "_model_module": "@jupyter-widgets/base",
            "top": null,
            "grid_column": null,
            "overflow_y": null,
            "overflow_x": null,
            "grid_auto_flow": null,
            "grid_area": null,
            "grid_template_columns": null,
            "flex": null,
            "_model_name": "LayoutModel",
            "justify_items": null,
            "grid_row": null,
            "max_height": null,
            "align_content": null,
            "visibility": null,
            "align_self": null,
            "height": null,
            "min_height": null,
            "padding": null,
            "grid_auto_rows": null,
            "grid_gap": null,
            "max_width": null,
            "order": null,
            "_view_module_version": "1.2.0",
            "grid_template_areas": null,
            "object_position": null,
            "object_fit": null,
            "grid_auto_columns": null,
            "margin": null,
            "display": null,
            "left": null
          }
        },
        "9f99136f0ad146a49ee7a7f5e0c47f62": {
          "model_module": "@jupyter-widgets/controls",
          "model_name": "DescriptionStyleModel",
          "state": {
            "_view_name": "StyleView",
            "_model_name": "DescriptionStyleModel",
            "description_width": "",
            "_view_module": "@jupyter-widgets/base",
            "_model_module_version": "1.5.0",
            "_view_count": null,
            "_view_module_version": "1.2.0",
            "_model_module": "@jupyter-widgets/controls"
          }
        },
        "64cbba86d8624128a0729ca260c5c674": {
          "model_module": "@jupyter-widgets/base",
          "model_name": "LayoutModel",
          "state": {
            "_view_name": "LayoutView",
            "grid_template_rows": null,
            "right": null,
            "justify_content": null,
            "_view_module": "@jupyter-widgets/base",
            "overflow": null,
            "_model_module_version": "1.2.0",
            "_view_count": null,
            "flex_flow": null,
            "width": null,
            "min_width": null,
            "border": null,
            "align_items": null,
            "bottom": null,
            "_model_module": "@jupyter-widgets/base",
            "top": null,
            "grid_column": null,
            "overflow_y": null,
            "overflow_x": null,
            "grid_auto_flow": null,
            "grid_area": null,
            "grid_template_columns": null,
            "flex": null,
            "_model_name": "LayoutModel",
            "justify_items": null,
            "grid_row": null,
            "max_height": null,
            "align_content": null,
            "visibility": null,
            "align_self": null,
            "height": null,
            "min_height": null,
            "padding": null,
            "grid_auto_rows": null,
            "grid_gap": null,
            "max_width": null,
            "order": null,
            "_view_module_version": "1.2.0",
            "grid_template_areas": null,
            "object_position": null,
            "object_fit": null,
            "grid_auto_columns": null,
            "margin": null,
            "display": null,
            "left": null
          }
        },
        "d4c9cac92aca4b569b0a0c51e1570bda": {
          "model_module": "@jupyter-widgets/base",
          "model_name": "LayoutModel",
          "state": {
            "_view_name": "LayoutView",
            "grid_template_rows": null,
            "right": null,
            "justify_content": null,
            "_view_module": "@jupyter-widgets/base",
            "overflow": null,
            "_model_module_version": "1.2.0",
            "_view_count": null,
            "flex_flow": null,
            "width": null,
            "min_width": null,
            "border": null,
            "align_items": null,
            "bottom": null,
            "_model_module": "@jupyter-widgets/base",
            "top": null,
            "grid_column": null,
            "overflow_y": null,
            "overflow_x": null,
            "grid_auto_flow": null,
            "grid_area": null,
            "grid_template_columns": null,
            "flex": null,
            "_model_name": "LayoutModel",
            "justify_items": null,
            "grid_row": null,
            "max_height": null,
            "align_content": null,
            "visibility": null,
            "align_self": null,
            "height": null,
            "min_height": null,
            "padding": null,
            "grid_auto_rows": null,
            "grid_gap": null,
            "max_width": null,
            "order": null,
            "_view_module_version": "1.2.0",
            "grid_template_areas": null,
            "object_position": null,
            "object_fit": null,
            "grid_auto_columns": null,
            "margin": null,
            "display": null,
            "left": null
          }
        }
      }
    }
  },
  "cells": [
    {
      "cell_type": "markdown",
      "metadata": {
        "id": "view-in-github",
        "colab_type": "text"
      },
      "source": [
        "<a href=\"https://colab.research.google.com/github/baichlseder/voila/blob/main/voila.ipynb\" target=\"_parent\"><img src=\"https://colab.research.google.com/assets/colab-badge.svg\" alt=\"Open In Colab\"/></a>"
      ]
    },
    {
      "cell_type": "code",
      "metadata": {
        "id": "Cfu0NuaAzdb7"
      },
      "source": [
        "!pip install fastai --upgrade -q"
      ],
      "execution_count": 22,
      "outputs": []
    },
    {
      "cell_type": "code",
      "metadata": {
        "id": "WBGXhIHazjTm"
      },
      "source": [
        "from fastai.vision.all import *\n",
        "import ipywidgets as widgets\n",
        "import requests"
      ],
      "execution_count": 23,
      "outputs": []
    },
    {
      "cell_type": "code",
      "metadata": {
        "id": "xEJA8_r3jY3X"
      },
      "source": [
        "# https://drive.google.com/file/d/1-OujMPsJ5fPGSaCkoHQiJKiemcMyzOyK/view?usp=sharing"
      ],
      "execution_count": null,
      "outputs": []
    },
    {
      "cell_type": "code",
      "metadata": {
        "id": "hNoJZA9Dzphi"
      },
      "source": [
        "def download_file_from_google_drive(id, destination):\n",
        "    URL = \"https://docs.google.com/uc?export=download\"\n",
        "    session = requests.Session()\n",
        "    response = session.get(URL, params = { 'id' : id }, stream = True)\n",
        "    token = get_confirm_token(response)\n",
        "    if token:\n",
        "      params = { 'id' : id, 'confirm' : token }\n",
        "      response = session.get(URL, params = params, stream = True)\n",
        "    save_response_content(response, destination)\n",
        "    \n",
        "def get_confirm_token(response):\n",
        "    for key, value in response.cookies.items():\n",
        "        if key.startswith('download_warning'):\n",
        "            return value\n",
        "\n",
        "    return None\n",
        "\n",
        "def save_response_content(response, destination):\n",
        "    CHUNK_SIZE = 32768\n",
        "\n",
        "    with open(destination, \"wb\") as f:\n",
        "        for chunk in response.iter_content(CHUNK_SIZE):\n",
        "            if chunk: # filter out keep-alive new chunks\n",
        "                f.write(chunk)"
      ],
      "execution_count": 24,
      "outputs": []
    },
    {
      "cell_type": "code",
      "metadata": {
        "id": "AkyPY-2I01Ut"
      },
      "source": [
        "file_id = '1-OujMPsJ5fPGSaCkoHQiJKiemcMyzOyK'\n",
        "destination = './handwritting_classifier.pkl'\n",
        "download_file_from_google_drive(file_id, destination)"
      ],
      "execution_count": 25,
      "outputs": []
    },
    {
      "cell_type": "markdown",
      "metadata": {
        "id": "5RRzC7Ry4XmA"
      },
      "source": [
        "## Classifier zu Nummern\n",
        "Es werden alle Zahlen von 0 bis 9 erkannt:\n",
        "  * 0\n",
        "  * 1\n",
        "  * 2\n",
        "  * 3\n",
        "  * 4\n",
        "  * 5\n",
        "  * 6\n",
        "  * 7\n",
        "  * 8\n",
        "  * 9"
      ]
    },
    {
      "cell_type": "code",
      "metadata": {
        "id": "lU9qu_Cb183l"
      },
      "source": [
        "path = Path()\n",
        "inference = load_learner(path/'handwritting_classifier.pkl', cpu=True)"
      ],
      "execution_count": 29,
      "outputs": []
    },
    {
      "cell_type": "code",
      "metadata": {
        "colab": {
          "base_uri": "https://localhost:8080/",
          "height": 273,
          "referenced_widgets": [
            "ec4b1fdd10f845f08ca7891f00831035",
            "e255700e119f48f88fc85f7e347e07ce",
            "dbaac4fca3834e0f8a11c0f273ea79c9",
            "789b815f869044fb922567071da9555c",
            "8959d4021ed94ce593a6f63b85da62fa",
            "3f483274b8d0493ba4eb8675fa903470",
            "46d3088fa395422aaaf835d8d9a128ce",
            "4b43ede92f31427a8a82a331cd0bb134",
            "e8eb8fea321542a0b2e61b8e21594ea9",
            "3081571e03c74e6890f4435d5657375c",
            "c7a6a9c4afcd47f2a437dd20d23a2139",
            "33c9813d57884cb88c0688373a0f27f6",
            "346a8c62d7394f91988142d95bfe8fb0",
            "9f99136f0ad146a49ee7a7f5e0c47f62",
            "64cbba86d8624128a0729ca260c5c674",
            "d4c9cac92aca4b569b0a0c51e1570bda"
          ]
        },
        "id": "1pzaW_l32fpK",
        "outputId": "a876d6d2-b9f9-4c1a-bbe0-9221d98ead22"
      },
      "source": [
        "btn_upload = widgets.FileUpload()\n",
        "lbl_pred = widgets.Label()\n",
        "btn_run = widgets.Button(description='Classify')\n",
        "out_pl = widgets.Output()\n",
        "def on_click_classify(change):\n",
        "  img = PILImage.create(btn_upload.data[-1])\n",
        "  out_pl.clear_output()\n",
        "  with out_pl : display(img.to_thumb(128,128))\n",
        "  pred, pred_idx, probs = inference.predict(img)\n",
        "  lbl_pred.value = f'Prediction: {pred}; Probability: {probs[pred_idx]:.04f}'\n",
        "\n",
        "btn_run.on_click(on_click_classify)\n",
        "widgets.VBox([widgets.Label('Select your number!'),\n",
        "              btn_upload, btn_run, out_pl, lbl_pred])"
      ],
      "execution_count": 30,
      "outputs": [
        {
          "output_type": "display_data",
          "data": {
            "application/vnd.jupyter.widget-view+json": {
              "model_id": "ec4b1fdd10f845f08ca7891f00831035",
              "version_minor": 0,
              "version_major": 2
            },
            "text/plain": [
              "VBox(children=(Label(value='Select your number!'), FileUpload(value={}, description='Upload'), Button(descript…"
            ]
          },
          "metadata": {
            "tags": []
          }
        },
        {
          "output_type": "display_data",
          "data": {
            "text/html": [
              ""
            ],
            "text/plain": [
              "<IPython.core.display.HTML object>"
            ]
          },
          "metadata": {
            "tags": []
          }
        }
      ]
    }
  ]
}