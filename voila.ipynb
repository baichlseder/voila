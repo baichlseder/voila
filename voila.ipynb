{
  "nbformat": 4,
  "nbformat_minor": 0,
  "metadata": {
    "colab": {
      "name": "voila.ipynb",
      "provenance": [],
      "collapsed_sections": [],
      "toc_visible": true,
      "mount_file_id": "1G5d_CqAfO0DlU0qWoxTZeDL7LtwcKtzS",
      "authorship_tag": "ABX9TyNYZWxUJy5c1Mf4ZHryNt8u",
      "include_colab_link": true
    },
    "kernelspec": {
      "name": "python3",
      "display_name": "Python 3"
    },
    "language_info": {
      "name": "python"
    },
    "widgets": {
      "application/vnd.jupyter.widget-state+json": {
        "e25189b66df2460ba282879f31af91f7": {
          "model_module": "@jupyter-widgets/controls",
          "model_name": "VBoxModel",
          "state": {
            "_view_name": "VBoxView",
            "_dom_classes": [],
            "_model_name": "VBoxModel",
            "_view_module": "@jupyter-widgets/controls",
            "_model_module_version": "1.5.0",
            "_view_count": null,
            "_view_module_version": "1.5.0",
            "box_style": "",
            "layout": "IPY_MODEL_b070634504f94ee88d1cee8223ca0656",
            "_model_module": "@jupyter-widgets/controls",
            "children": [
              "IPY_MODEL_b478111202284e28aaae827c6885eec4",
              "IPY_MODEL_c7aa85f29b7a436e8736f79cfe3c53c4",
              "IPY_MODEL_8196fbddfc694e598e390717c431cccd",
              "IPY_MODEL_fe8e4757ef964601b230a1b0bc753c22",
              "IPY_MODEL_884b05574aac42dc88a2e2fd0b6f38ec"
            ]
          }
        },
        "b070634504f94ee88d1cee8223ca0656": {
          "model_module": "@jupyter-widgets/base",
          "model_name": "LayoutModel",
          "state": {
            "_view_name": "LayoutView",
            "grid_template_rows": null,
            "right": null,
            "justify_content": null,
            "_view_module": "@jupyter-widgets/base",
            "overflow": null,
            "_model_module_version": "1.2.0",
            "_view_count": null,
            "flex_flow": null,
            "width": null,
            "min_width": null,
            "border": null,
            "align_items": null,
            "bottom": null,
            "_model_module": "@jupyter-widgets/base",
            "top": null,
            "grid_column": null,
            "overflow_y": null,
            "overflow_x": null,
            "grid_auto_flow": null,
            "grid_area": null,
            "grid_template_columns": null,
            "flex": null,
            "_model_name": "LayoutModel",
            "justify_items": null,
            "grid_row": null,
            "max_height": null,
            "align_content": null,
            "visibility": null,
            "align_self": null,
            "height": null,
            "min_height": null,
            "padding": null,
            "grid_auto_rows": null,
            "grid_gap": null,
            "max_width": null,
            "order": null,
            "_view_module_version": "1.2.0",
            "grid_template_areas": null,
            "object_position": null,
            "object_fit": null,
            "grid_auto_columns": null,
            "margin": null,
            "display": null,
            "left": null
          }
        },
        "b478111202284e28aaae827c6885eec4": {
          "model_module": "@jupyter-widgets/controls",
          "model_name": "LabelModel",
          "state": {
            "_view_name": "LabelView",
            "style": "IPY_MODEL_1e7ca746c5e549e68bee10155f79ef68",
            "_dom_classes": [],
            "description": "",
            "_model_name": "LabelModel",
            "placeholder": "​",
            "_view_module": "@jupyter-widgets/controls",
            "_model_module_version": "1.5.0",
            "value": "Select your number!",
            "_view_count": null,
            "_view_module_version": "1.5.0",
            "description_tooltip": null,
            "_model_module": "@jupyter-widgets/controls",
            "layout": "IPY_MODEL_36ab56b613644212b295baa1ca07e510"
          }
        },
        "c7aa85f29b7a436e8736f79cfe3c53c4": {
          "model_module": "@jupyter-widgets/controls",
          "model_name": "FileUploadModel",
          "state": {
            "_view_name": "FileUploadView",
            "_counter": 1,
            "style": "IPY_MODEL_7dec380e634a4007be892f925c342e25",
            "_dom_classes": [],
            "description": "Upload",
            "multiple": false,
            "_model_name": "FileUploadModel",
            "data": [
              null
            ],
            "button_style": "",
            "_view_module": "@jupyter-widgets/controls",
            "_model_module_version": "1.5.0",
            "accept": "",
            "_view_count": null,
            "disabled": false,
            "_view_module_version": "1.5.0",
            "error": "",
            "description_tooltip": null,
            "metadata": [
              {
                "name": "5.PNG",
                "type": "image/png",
                "size": 150519,
                "lastModified": 1618501193822
              }
            ],
            "_model_module": "@jupyter-widgets/controls",
            "layout": "IPY_MODEL_8ec9197e98c84c1d87e8ae33e4301b6b",
            "icon": "upload"
          }
        },
        "8196fbddfc694e598e390717c431cccd": {
          "model_module": "@jupyter-widgets/controls",
          "model_name": "ButtonModel",
          "state": {
            "_view_name": "ButtonView",
            "style": "IPY_MODEL_623166deeb5e4b2ca6d976045dbcdc9f",
            "_dom_classes": [],
            "description": "Classify",
            "_model_name": "ButtonModel",
            "button_style": "",
            "_view_module": "@jupyter-widgets/controls",
            "_model_module_version": "1.5.0",
            "tooltip": "",
            "_view_count": null,
            "disabled": false,
            "_view_module_version": "1.5.0",
            "layout": "IPY_MODEL_ad2cb31288a84f4da62a859ebda1d38c",
            "_model_module": "@jupyter-widgets/controls",
            "icon": ""
          }
        },
        "fe8e4757ef964601b230a1b0bc753c22": {
          "model_module": "@jupyter-widgets/output",
          "model_name": "OutputModel",
          "state": {
            "_view_name": "OutputView",
            "msg_id": "",
            "_dom_classes": [],
            "_model_name": "OutputModel",
            "outputs": [
              {
                "output_type": "display_data",
                "metadata": {
                  "tags": []
                },
                "image/png": "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\n",
                "text/plain": "<PIL.Image.Image image mode=RGB size=128x126 at 0x7F1669A52D50>"
              }
            ],
            "_view_module": "@jupyter-widgets/output",
            "_model_module_version": "1.0.0",
            "_view_count": null,
            "_view_module_version": "1.0.0",
            "layout": "IPY_MODEL_f170435ed67d4bceb3c8d4b3a810096c",
            "_model_module": "@jupyter-widgets/output"
          }
        },
        "884b05574aac42dc88a2e2fd0b6f38ec": {
          "model_module": "@jupyter-widgets/controls",
          "model_name": "LabelModel",
          "state": {
            "_view_name": "LabelView",
            "style": "IPY_MODEL_e686529a19ca4c1d8c7b2dd6b5f59e34",
            "_dom_classes": [],
            "description": "",
            "_model_name": "LabelModel",
            "placeholder": "​",
            "_view_module": "@jupyter-widgets/controls",
            "_model_module_version": "1.5.0",
            "value": "Prediction: 5; Probability: 1.0000",
            "_view_count": null,
            "_view_module_version": "1.5.0",
            "description_tooltip": null,
            "_model_module": "@jupyter-widgets/controls",
            "layout": "IPY_MODEL_fa3d565257704c209d2de89966572ca0"
          }
        },
        "1e7ca746c5e549e68bee10155f79ef68": {
          "model_module": "@jupyter-widgets/controls",
          "model_name": "DescriptionStyleModel",
          "state": {
            "_view_name": "StyleView",
            "_model_name": "DescriptionStyleModel",
            "description_width": "",
            "_view_module": "@jupyter-widgets/base",
            "_model_module_version": "1.5.0",
            "_view_count": null,
            "_view_module_version": "1.2.0",
            "_model_module": "@jupyter-widgets/controls"
          }
        },
        "36ab56b613644212b295baa1ca07e510": {
          "model_module": "@jupyter-widgets/base",
          "model_name": "LayoutModel",
          "state": {
            "_view_name": "LayoutView",
            "grid_template_rows": null,
            "right": null,
            "justify_content": null,
            "_view_module": "@jupyter-widgets/base",
            "overflow": null,
            "_model_module_version": "1.2.0",
            "_view_count": null,
            "flex_flow": null,
            "width": null,
            "min_width": null,
            "border": null,
            "align_items": null,
            "bottom": null,
            "_model_module": "@jupyter-widgets/base",
            "top": null,
            "grid_column": null,
            "overflow_y": null,
            "overflow_x": null,
            "grid_auto_flow": null,
            "grid_area": null,
            "grid_template_columns": null,
            "flex": null,
            "_model_name": "LayoutModel",
            "justify_items": null,
            "grid_row": null,
            "max_height": null,
            "align_content": null,
            "visibility": null,
            "align_self": null,
            "height": null,
            "min_height": null,
            "padding": null,
            "grid_auto_rows": null,
            "grid_gap": null,
            "max_width": null,
            "order": null,
            "_view_module_version": "1.2.0",
            "grid_template_areas": null,
            "object_position": null,
            "object_fit": null,
            "grid_auto_columns": null,
            "margin": null,
            "display": null,
            "left": null
          }
        },
        "7dec380e634a4007be892f925c342e25": {
          "model_module": "@jupyter-widgets/controls",
          "model_name": "ButtonStyleModel",
          "state": {
            "_view_name": "StyleView",
            "_model_name": "ButtonStyleModel",
            "_view_module": "@jupyter-widgets/base",
            "_model_module_version": "1.5.0",
            "_view_count": null,
            "button_color": null,
            "font_weight": "",
            "_view_module_version": "1.2.0",
            "_model_module": "@jupyter-widgets/controls"
          }
        },
        "8ec9197e98c84c1d87e8ae33e4301b6b": {
          "model_module": "@jupyter-widgets/base",
          "model_name": "LayoutModel",
          "state": {
            "_view_name": "LayoutView",
            "grid_template_rows": null,
            "right": null,
            "justify_content": null,
            "_view_module": "@jupyter-widgets/base",
            "overflow": null,
            "_model_module_version": "1.2.0",
            "_view_count": null,
            "flex_flow": null,
            "width": null,
            "min_width": null,
            "border": null,
            "align_items": null,
            "bottom": null,
            "_model_module": "@jupyter-widgets/base",
            "top": null,
            "grid_column": null,
            "overflow_y": null,
            "overflow_x": null,
            "grid_auto_flow": null,
            "grid_area": null,
            "grid_template_columns": null,
            "flex": null,
            "_model_name": "LayoutModel",
            "justify_items": null,
            "grid_row": null,
            "max_height": null,
            "align_content": null,
            "visibility": null,
            "align_self": null,
            "height": null,
            "min_height": null,
            "padding": null,
            "grid_auto_rows": null,
            "grid_gap": null,
            "max_width": null,
            "order": null,
            "_view_module_version": "1.2.0",
            "grid_template_areas": null,
            "object_position": null,
            "object_fit": null,
            "grid_auto_columns": null,
            "margin": null,
            "display": null,
            "left": null
          }
        },
        "623166deeb5e4b2ca6d976045dbcdc9f": {
          "model_module": "@jupyter-widgets/controls",
          "model_name": "ButtonStyleModel",
          "state": {
            "_view_name": "StyleView",
            "_model_name": "ButtonStyleModel",
            "_view_module": "@jupyter-widgets/base",
            "_model_module_version": "1.5.0",
            "_view_count": null,
            "button_color": null,
            "font_weight": "",
            "_view_module_version": "1.2.0",
            "_model_module": "@jupyter-widgets/controls"
          }
        },
        "ad2cb31288a84f4da62a859ebda1d38c": {
          "model_module": "@jupyter-widgets/base",
          "model_name": "LayoutModel",
          "state": {
            "_view_name": "LayoutView",
            "grid_template_rows": null,
            "right": null,
            "justify_content": null,
            "_view_module": "@jupyter-widgets/base",
            "overflow": null,
            "_model_module_version": "1.2.0",
            "_view_count": null,
            "flex_flow": null,
            "width": null,
            "min_width": null,
            "border": null,
            "align_items": null,
            "bottom": null,
            "_model_module": "@jupyter-widgets/base",
            "top": null,
            "grid_column": null,
            "overflow_y": null,
            "overflow_x": null,
            "grid_auto_flow": null,
            "grid_area": null,
            "grid_template_columns": null,
            "flex": null,
            "_model_name": "LayoutModel",
            "justify_items": null,
            "grid_row": null,
            "max_height": null,
            "align_content": null,
            "visibility": null,
            "align_self": null,
            "height": null,
            "min_height": null,
            "padding": null,
            "grid_auto_rows": null,
            "grid_gap": null,
            "max_width": null,
            "order": null,
            "_view_module_version": "1.2.0",
            "grid_template_areas": null,
            "object_position": null,
            "object_fit": null,
            "grid_auto_columns": null,
            "margin": null,
            "display": null,
            "left": null
          }
        },
        "e686529a19ca4c1d8c7b2dd6b5f59e34": {
          "model_module": "@jupyter-widgets/controls",
          "model_name": "DescriptionStyleModel",
          "state": {
            "_view_name": "StyleView",
            "_model_name": "DescriptionStyleModel",
            "description_width": "",
            "_view_module": "@jupyter-widgets/base",
            "_model_module_version": "1.5.0",
            "_view_count": null,
            "_view_module_version": "1.2.0",
            "_model_module": "@jupyter-widgets/controls"
          }
        },
        "fa3d565257704c209d2de89966572ca0": {
          "model_module": "@jupyter-widgets/base",
          "model_name": "LayoutModel",
          "state": {
            "_view_name": "LayoutView",
            "grid_template_rows": null,
            "right": null,
            "justify_content": null,
            "_view_module": "@jupyter-widgets/base",
            "overflow": null,
            "_model_module_version": "1.2.0",
            "_view_count": null,
            "flex_flow": null,
            "width": null,
            "min_width": null,
            "border": null,
            "align_items": null,
            "bottom": null,
            "_model_module": "@jupyter-widgets/base",
            "top": null,
            "grid_column": null,
            "overflow_y": null,
            "overflow_x": null,
            "grid_auto_flow": null,
            "grid_area": null,
            "grid_template_columns": null,
            "flex": null,
            "_model_name": "LayoutModel",
            "justify_items": null,
            "grid_row": null,
            "max_height": null,
            "align_content": null,
            "visibility": null,
            "align_self": null,
            "height": null,
            "min_height": null,
            "padding": null,
            "grid_auto_rows": null,
            "grid_gap": null,
            "max_width": null,
            "order": null,
            "_view_module_version": "1.2.0",
            "grid_template_areas": null,
            "object_position": null,
            "object_fit": null,
            "grid_auto_columns": null,
            "margin": null,
            "display": null,
            "left": null
          }
        },
        "f170435ed67d4bceb3c8d4b3a810096c": {
          "model_module": "@jupyter-widgets/base",
          "model_name": "LayoutModel",
          "state": {
            "_view_name": "LayoutView",
            "grid_template_rows": null,
            "right": null,
            "justify_content": null,
            "_view_module": "@jupyter-widgets/base",
            "overflow": null,
            "_model_module_version": "1.2.0",
            "_view_count": null,
            "flex_flow": null,
            "width": null,
            "min_width": null,
            "border": null,
            "align_items": null,
            "bottom": null,
            "_model_module": "@jupyter-widgets/base",
            "top": null,
            "grid_column": null,
            "overflow_y": null,
            "overflow_x": null,
            "grid_auto_flow": null,
            "grid_area": null,
            "grid_template_columns": null,
            "flex": null,
            "_model_name": "LayoutModel",
            "justify_items": null,
            "grid_row": null,
            "max_height": null,
            "align_content": null,
            "visibility": null,
            "align_self": null,
            "height": null,
            "min_height": null,
            "padding": null,
            "grid_auto_rows": null,
            "grid_gap": null,
            "max_width": null,
            "order": null,
            "_view_module_version": "1.2.0",
            "grid_template_areas": null,
            "object_position": null,
            "object_fit": null,
            "grid_auto_columns": null,
            "margin": null,
            "display": null,
            "left": null
          }
        }
      }
    }
  },
  "cells": [
    {
      "cell_type": "markdown",
      "metadata": {
        "id": "view-in-github",
        "colab_type": "text"
      },
      "source": [
        "<a href=\"https://colab.research.google.com/github/baichlseder/voila/blob/main/voila.ipynb\" target=\"_parent\"><img src=\"https://colab.research.google.com/assets/colab-badge.svg\" alt=\"Open In Colab\"/></a>"
      ]
    },
    {
      "cell_type": "code",
      "metadata": {
        "id": "Cfu0NuaAzdb7"
      },
      "source": [
        "!pip install fastai --upgrade -q"
      ],
      "execution_count": 22,
      "outputs": []
    },
    {
      "cell_type": "code",
      "metadata": {
        "id": "WBGXhIHazjTm"
      },
      "source": [
        "from fastai.vision.all import *\n",
        "import ipywidgets as widgets\n",
        "import requests"
      ],
      "execution_count": 23,
      "outputs": []
    },
    {
      "cell_type": "code",
      "metadata": {
        "id": "xEJA8_r3jY3X"
      },
      "source": [
        "# https://drive.google.com/file/d/1-OujMPsJ5fPGSaCkoHQiJKiemcMyzOyK/view?usp=sharing"
      ],
      "execution_count": null,
      "outputs": []
    },
    {
      "cell_type": "code",
      "metadata": {
        "id": "hNoJZA9Dzphi"
      },
      "source": [
        "def download_file_from_google_drive(id, destination):\n",
        "    URL = \"https://docs.google.com/uc?export=download\"\n",
        "    session = requests.Session()\n",
        "    response = session.get(URL, params = { 'id' : id }, stream = True)\n",
        "    token = get_confirm_token(response)\n",
        "    if token:\n",
        "      params = { 'id' : id, 'confirm' : token }\n",
        "      response = session.get(URL, params = params, stream = True)\n",
        "    save_response_content(response, destination)\n",
        "    \n",
        "def get_confirm_token(response):\n",
        "    for key, value in response.cookies.items():\n",
        "        if key.startswith('download_warning'):\n",
        "            return value\n",
        "\n",
        "    return None\n",
        "\n",
        "def save_response_content(response, destination):\n",
        "    CHUNK_SIZE = 32768\n",
        "\n",
        "    with open(destination, \"wb\") as f:\n",
        "        for chunk in response.iter_content(CHUNK_SIZE):\n",
        "            if chunk: # filter out keep-alive new chunks\n",
        "                f.write(chunk)"
      ],
      "execution_count": 24,
      "outputs": []
    },
    {
      "cell_type": "code",
      "metadata": {
        "id": "AkyPY-2I01Ut"
      },
      "source": [
        "file_id = '1-OujMPsJ5fPGSaCkoHQiJKiemcMyzOyK'\n",
        "destination = './handwritting_classifier.pkl'\n",
        "download_file_from_google_drive(file_id, destination)"
      ],
      "execution_count": 25,
      "outputs": []
    },
    {
      "cell_type": "markdown",
      "metadata": {
        "id": "5RRzC7Ry4XmA"
      },
      "source": [
        "## Classifier zu Nummern\n",
        "Es werden alle Zahlen von 0 bis 9 erkannt:\n",
        "  * 0\n",
        "  * 1\n",
        "  * 2\n",
        "  * 3\n",
        "  * 4\n",
        "  * 5\n",
        "  * 6\n",
        "  * 7\n",
        "  * 8\n",
        "  * 9"
      ]
    },
    {
      "cell_type": "code",
      "metadata": {
        "id": "lU9qu_Cb183l"
      },
      "source": [
        "path = Path()\n",
        "inference = load_learner('/content/handwritting_classifier.pkl', cpu=true)"
      ],
      "execution_count": 26,
      "outputs": []
    },
    {
      "cell_type": "code",
      "metadata": {
        "colab": {
          "base_uri": "https://localhost:8080/",
          "height": 271,
          "referenced_widgets": [
            "e25189b66df2460ba282879f31af91f7",
            "b070634504f94ee88d1cee8223ca0656",
            "b478111202284e28aaae827c6885eec4",
            "c7aa85f29b7a436e8736f79cfe3c53c4",
            "8196fbddfc694e598e390717c431cccd",
            "fe8e4757ef964601b230a1b0bc753c22",
            "884b05574aac42dc88a2e2fd0b6f38ec",
            "1e7ca746c5e549e68bee10155f79ef68",
            "36ab56b613644212b295baa1ca07e510",
            "7dec380e634a4007be892f925c342e25",
            "8ec9197e98c84c1d87e8ae33e4301b6b",
            "623166deeb5e4b2ca6d976045dbcdc9f",
            "ad2cb31288a84f4da62a859ebda1d38c",
            "e686529a19ca4c1d8c7b2dd6b5f59e34",
            "fa3d565257704c209d2de89966572ca0",
            "f170435ed67d4bceb3c8d4b3a810096c"
          ]
        },
        "id": "1pzaW_l32fpK",
        "outputId": "457ac0b9-3b6f-4954-85a0-7ddaffca4441"
      },
      "source": [
        "btn_upload = widgets.FileUpload()\n",
        "lbl_pred = widgets.Label()\n",
        "btn_run = widgets.Button(description='Classify')\n",
        "out_pl = widgets.Output()\n",
        "def on_click_classify(change):\n",
        "  img = PILImage.create(btn_upload.data[-1])\n",
        "  out_pl.clear_output()\n",
        "  with out_pl : display(img.to_thumb(128,128))\n",
        "  pred, pred_idx, probs = inference.predict(img)\n",
        "  lbl_pred.value = f'Prediction: {pred}; Probability: {probs[pred_idx]:.04f}'\n",
        "\n",
        "btn_run.on_click(on_click_classify)\n",
        "widgets.VBox([widgets.Label('Select your number!'),\n",
        "              btn_upload, btn_run, out_pl, lbl_pred])"
      ],
      "execution_count": 27,
      "outputs": [
        {
          "output_type": "display_data",
          "data": {
            "application/vnd.jupyter.widget-view+json": {
              "model_id": "e25189b66df2460ba282879f31af91f7",
              "version_minor": 0,
              "version_major": 2
            },
            "text/plain": [
              "VBox(children=(Label(value='Select your number!'), FileUpload(value={}, description='Upload'), Button(descript…"
            ]
          },
          "metadata": {
            "tags": []
          }
        },
        {
          "output_type": "display_data",
          "data": {
            "text/html": [
              ""
            ],
            "text/plain": [
              "<IPython.core.display.HTML object>"
            ]
          },
          "metadata": {
            "tags": []
          }
        }
      ]
    }
  ]
}