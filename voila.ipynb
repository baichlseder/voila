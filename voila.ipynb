{
  "nbformat": 4,
  "nbformat_minor": 0,
  "metadata": {
    "colab": {
      "name": "voila.ipynb",
      "provenance": [],
      "collapsed_sections": [],
      "toc_visible": true,
      "mount_file_id": "1G5d_CqAfO0DlU0qWoxTZeDL7LtwcKtzS",
      "authorship_tag": "ABX9TyPsdyNRaq4a2Vn+SnQiojwn",
      "include_colab_link": true
    },
    "kernelspec": {
      "name": "python3",
      "display_name": "Python 3"
    },
    "language_info": {
      "name": "python"
    },
    "widgets": {
      "application/vnd.jupyter.widget-state+json": {
        "0516d2305f694ff586cb1f615a300a49": {
          "model_module": "@jupyter-widgets/controls",
          "model_name": "VBoxModel",
          "state": {
            "_view_name": "VBoxView",
            "_dom_classes": [],
            "_model_name": "VBoxModel",
            "_view_module": "@jupyter-widgets/controls",
            "_model_module_version": "1.5.0",
            "_view_count": null,
            "_view_module_version": "1.5.0",
            "box_style": "",
            "layout": "IPY_MODEL_fb85df4043534f94b06b26cca4f915b1",
            "_model_module": "@jupyter-widgets/controls",
            "children": [
              "IPY_MODEL_83a12abeff84406dbc5c5b16a3dc2aee",
              "IPY_MODEL_868c1c10ee37457c8d74efaaf581f234",
              "IPY_MODEL_5ac39a1632f946b99f9faefcf0244e5b",
              "IPY_MODEL_ff6c8113346b4080a79efbbe904e3206",
              "IPY_MODEL_cf8f840c78c34d0e86028957fd2f0b80"
            ]
          }
        },
        "fb85df4043534f94b06b26cca4f915b1": {
          "model_module": "@jupyter-widgets/base",
          "model_name": "LayoutModel",
          "state": {
            "_view_name": "LayoutView",
            "grid_template_rows": null,
            "right": null,
            "justify_content": null,
            "_view_module": "@jupyter-widgets/base",
            "overflow": null,
            "_model_module_version": "1.2.0",
            "_view_count": null,
            "flex_flow": null,
            "width": null,
            "min_width": null,
            "border": null,
            "align_items": null,
            "bottom": null,
            "_model_module": "@jupyter-widgets/base",
            "top": null,
            "grid_column": null,
            "overflow_y": null,
            "overflow_x": null,
            "grid_auto_flow": null,
            "grid_area": null,
            "grid_template_columns": null,
            "flex": null,
            "_model_name": "LayoutModel",
            "justify_items": null,
            "grid_row": null,
            "max_height": null,
            "align_content": null,
            "visibility": null,
            "align_self": null,
            "height": null,
            "min_height": null,
            "padding": null,
            "grid_auto_rows": null,
            "grid_gap": null,
            "max_width": null,
            "order": null,
            "_view_module_version": "1.2.0",
            "grid_template_areas": null,
            "object_position": null,
            "object_fit": null,
            "grid_auto_columns": null,
            "margin": null,
            "display": null,
            "left": null
          }
        },
        "83a12abeff84406dbc5c5b16a3dc2aee": {
          "model_module": "@jupyter-widgets/controls",
          "model_name": "LabelModel",
          "state": {
            "_view_name": "LabelView",
            "style": "IPY_MODEL_30837a23689a4b35b4246709fade0a64",
            "_dom_classes": [],
            "description": "",
            "_model_name": "LabelModel",
            "placeholder": "​",
            "_view_module": "@jupyter-widgets/controls",
            "_model_module_version": "1.5.0",
            "value": "Select your number!",
            "_view_count": null,
            "_view_module_version": "1.5.0",
            "description_tooltip": null,
            "_model_module": "@jupyter-widgets/controls",
            "layout": "IPY_MODEL_ff9cd524777f459daf06110a567eccd1"
          }
        },
        "868c1c10ee37457c8d74efaaf581f234": {
          "model_module": "@jupyter-widgets/controls",
          "model_name": "FileUploadModel",
          "state": {
            "_view_name": "FileUploadView",
            "_counter": 1,
            "style": "IPY_MODEL_b9e54ef05f68478bb016fc721e08e1e2",
            "_dom_classes": [],
            "description": "Upload",
            "multiple": false,
            "_model_name": "FileUploadModel",
            "data": [
              null
            ],
            "button_style": "",
            "_view_module": "@jupyter-widgets/controls",
            "_model_module_version": "1.5.0",
            "accept": "",
            "_view_count": null,
            "disabled": false,
            "_view_module_version": "1.5.0",
            "error": "",
            "description_tooltip": null,
            "metadata": [
              {
                "name": "6.PNG",
                "type": "image/png",
                "size": 116062,
                "lastModified": 1618501215663
              }
            ],
            "_model_module": "@jupyter-widgets/controls",
            "layout": "IPY_MODEL_02f6f396676348fea3241847aafb9906",
            "icon": "upload"
          }
        },
        "5ac39a1632f946b99f9faefcf0244e5b": {
          "model_module": "@jupyter-widgets/controls",
          "model_name": "ButtonModel",
          "state": {
            "_view_name": "ButtonView",
            "style": "IPY_MODEL_541de12a2e504fb99a31338057fbff6c",
            "_dom_classes": [],
            "description": "Classify",
            "_model_name": "ButtonModel",
            "button_style": "",
            "_view_module": "@jupyter-widgets/controls",
            "_model_module_version": "1.5.0",
            "tooltip": "",
            "_view_count": null,
            "disabled": false,
            "_view_module_version": "1.5.0",
            "layout": "IPY_MODEL_1f7a25d5745a4d4f8552c5feb6cfe410",
            "_model_module": "@jupyter-widgets/controls",
            "icon": ""
          }
        },
        "ff6c8113346b4080a79efbbe904e3206": {
          "model_module": "@jupyter-widgets/output",
          "model_name": "OutputModel",
          "state": {
            "_view_name": "OutputView",
            "msg_id": "",
            "_dom_classes": [],
            "_model_name": "OutputModel",
            "outputs": [
              {
                "output_type": "display_data",
                "metadata": {
                  "tags": []
                },
                "image/png": "iVBORw0KGgoAAAANSUhEUgAAAIAAAAB/CAIAAAComF1QAAAxA0lEQVR4nMV9a5Ndt3FgdwN35s6TM6T4EDkcUuJwLNqyZFuyIsnKOokjK47iJBUnX1O1X/KrUtna2trafEn8SfshtWs7Ka/etBQtH6Ykii/xzRmS8557D7r3QwM4AM65d2ZkO4uiRveeiwM0+o1GA8Ajhw9KKEQEoSAiIupnIhKRqqqIyBijD0UEksLMzXbih6qqRAQRiYiZARCBtAvfDjIzIyIzAwChITIKhoiAAAICAAgIiAgDsogAiMKmBUMtD7mANigghPXQBEBCNa2ZNhLHFYFJUaEDj2Cnz1NU6DC1JgIQoL7o4UREQkQyRDY2F9tSRCge9YNzTkHRnyIcBQ1SWPUnfSv2qg0CQIRaKwCACKcNMouI05EAAIuAwu0xKwIeNQygmBAAFkGIHQggACrJQEj8e74HikAionMufo2oSGCrSZKOPSVDQS0/TF8/4TMAQHQgKEAoAGJTvBRtRYAi+lqRPqTEwRSypVhIm4rj0YeEkGABURhREFAUJwgoNRbBvwsinrQkqERA8H35vxy6wwyA1g8pU6a/RvwUP0V2iWrAtyY1LT1lWBDAAIKATeWXDEFCeQj0iJTYBc4zWLUogZ1zzSGldSAqHAAR/a+U8QFv16gZ+OsA2Hc5qFQmmq+UT0RSVaEUScFLpcSSADhGAAcsUAsUBLUeP+di1Q5iZOFCacYniRnIBoOQva6/oCoQACQQz/SN7iDRaAAAQEQuYkSFItGKXsIgA28QpzefiAiI+NdzlUWAyIIIBklEJKVByUYohIwgANZ3EEbf7FhE1PCmar3Q9UNKId2FEhtETgCP1sE/B7B36re1l+FgF78OA7Ko30bIokQHAQCIyHIYJyIVXUX9UyilVuAGDal4HulXEFvN4KBe9qT9mvV3w+NDei8bB2DvbYEAiOpPEf3snyPIkPZreqEFFqSanTmxtyly9SEkemmQQU59hvhWIS7ND0WFPfFsqv1aLeSgliV4VnuSYxHx/ArgXTDFhIo4esOLCIpbABBO3A39i4CIwmwRAAUwOAYQDHqTZfbKhs0BRD+hWQpJakXib7F8BbciKyyCHNjWG8gwgNgHAOSGK+ld2BswK4jeWQbENrU+hEFafxpkGyRx5FNbXQjTbkxL2m9sYYjeSH0YGCBeO4pC2qNafu9axelf3h0M4Vry8BCRjY5yof13VA6/iUBESuyytb1amkEl0mk3amdYwcz+F/TcuWVEDDDY5k8RO41XWp78RsMAgN0ptyFeQGykCdt/WOG8t0QgJPtfXQHi5NdGWKMqGCSMKabSD2n92Fqq69Nm04eQu7ORPQsPsumxpBVSbTYIQWrVCjWVwrNXvVf+lHSEiBHhdbM5hClCSgmI4A4BZXhJp+NDBlaogjhxH4TNSPD09Uaj0Ioi5ThvKhExiduEVjNHfq/iU1tayd+N00RvLMJj9ENoJ0Cz7KgiUu6IH9LYUYHWppYruL5ADYYZTnD+gCETAvTjLCkQO5GGtGWQR3EMlQvYCmgLxqrxjxDjVDAAbwIgLAxsjEWkmgCpLNeBpISXU6ZOWx+kHFIziyEkV0i9fthR4BAEWVuI/JTpQ4MEAiKM+jA2LljjZZCuq0MLAXdURy+GmyjJuxMBESFooWH2TBjECIOkBIglRVPE0UDUNJzIOLYYwY7kjPHtdAAF/fx6QD5diMsBTgKpcohYtTyI1qM6CDMI8KwkXAO+d0RozM9TOKHB4NHZlUavSHX0GxAICNBLtW1aXUlDqUEgogIthXcwfOnXFNGKYo0vOeewjoDW7FYqNCxZCnK2YGYOkX8kZBEAIWMAUZhTOqSj8OYqEAADUiS8oNKZclWEMwWgULNtFs83l2IERIjaJKCJwUFlkGQ0FVET0LiCNsgzyToKTFUTBpPxABgkg5k2EwGNTQoLoABmIlW6AMFIBhsg3MoHQ0fdhLZ+kn+V0CY35wEQIs+pM9PeTZuHE7kYi3qhcioHWjMKgfZIqbQO6tRrbMC6RyCi9F0dXh2vaeNZbTG12xE18UOr17Sj2zqEf6Obpbxmo8YvDGwMvaUyOLDRBETPUxqFCs0KggQXMKwHZIiQEIAqHBXfL6JAyZK6TgmIuvYLSaiVQYQQEQUzSYm0wUQbaH0AIMKi3xTjUV4xmZrEptLoGTfwn6JCcaCaTjiRgKYqKFRzoemahjoDOnKYOqMsaDK/IlUCxVJzimgMLhlzKWraFiGSIeEhPFcCmZJ/R32yp1LIRHQlWmVFWco28ViwSSR+ihrJUyhaOlA2FEEAgUzzpGunKSEL1kvbLK2FWjAAYzsAAAhiaodfhpqwIUiXXE3FJ4MiuIV+bg0h5yjJFVf0gtLahbUhInXFduSUVHgVqajzG7UHlHWPDQ8qJXwKhspH5FlVXyyCAp1Ox1prjRntdjc2NipXea0kwEO1cBM18WGBo1ZqFe/ups4A7AkiWEgokzJamqkxtJW6T60Vg7TZjywCHA1AYdOasBb0KAZGgESIAvum9333uy+OjnZ/8a+/2NjYcODTZ2CICLSNpeBCaHJr/mvr1yHttxZFta1HlScnRV+oqTdb+zDRz0MUZoaW6QXkXBZbVqWUSnrQ+94FID+T8arfWosox44e++GfvPHc88+xyMbW+tu//D+brm8MAqD0NfcLw/IUSMEQDW1TPG81dakpLl4vBju8BM+CBaoWNzRVyim37rb1VvFHr9AKiGOR3AeLI4xOg05xEVEtyunTC2+++ebpxUU0hIRvvvnmifn5t99++/Lly1VVIRGy+kEIAGH1aWcWHs65g8j2m5QdCFDY3iGFg28rAEKKUHUR/fNW3RJRHHtsMh2qFwt+/myNXTx9+k/f+JNTCwvGGm1/fHLi9155RQi/uHaVXaVeLxgfUQBmaDhXxUjT54MUrzTcUGhTX3sq3gsaopRjmmPxvOge42TSi76GA4TyNltNcewipUrqYyCgsDCzQfOdF77zw9dfn58/jogcgwbMAtCx1pLZcsyVKi4k9AvmhZAV0734vJUkEaoowSn9Cl+otTSVfGy5dLCwUQY1mjonEObx8Z+fiMVA8R6LhCWU8B0IyaBZPL34+h+/Pj8/H2a2/lfV+LP7Zsa6XZ+kKIIsCEhAirtoz3Yc2lcEcmjNZjV96I1wClCRA1pwq443RlwpQUPBF+kHr5rypZ60jogUXkBq7kQYQA488cT3v/+f5uaOEqGyDkqAA4iIDh48/OSTR+/ff0BE1lqfEUNoxACoW0GRt1OMSMMBTXEkIuDn4Yw+rJ0ZsyE0iLwPycJqnPMzczkPAABN4gQoNVItnsx1CAUTLkzaaZKtdZz6oci5TLGPiCyCwt1O53vfe/XZZ79hrc2mPOrniC7GiDHWOSFCY4y1VtPiRzodEamqCoF1MURyrsR6vp1lOCeQRIFDgFqbtZKtWQZRF1IjXGAqRWKG/Yh3DS3UARC/qBG0aYKfwbJeKMTYb+p6afdf+/qZF1767uhYtxLV775xlQEy4MDdvH3zxs0bgoy2wyA9VxEhIgGhsDCAAxGoDUc6qJQe6eJl+otqsjis3ZchFKrd7fioYPziZUQ0xrToURGJyePqg+u/htc/SN6LhSDtRUT6/f7i4uKbf/rmkUOHASCrJDrfZhCo+tX5c+eXlpYQkZAQEViccwjIzK5yEFfG2gYV+SAOK9YxZIiMxIVLqNP9tBSQF4yLuUORvoi7WRMeRL1i3SF6QdTKHQOEoGkJ41qQMUYVxXe+850//7M3T544QVivy2D8i0hAIrC+un7j+g2u2JIlQAIUEGZRB4kQ2fm0QZByf0CrssV6HkogaIiZGUEj5zWcuy+tZt82f5Bk70f8tXgI3rVryRCV+BcBAVkY1TEdMN0P7YOw/hUBMUSE2O/3Tp448Zd/8edPnTwB0lzpq0fW7/XPnTt38+ZNIhoZGQHdYwNobIeIHDsBAfTRKYC4gyboz7Z4ThivIJIxtjNCwuKYnasAWAXJ1wRO8ZMKUFPUiodWBnBnsxVM5lCDUFGr0ZAdHLFeVCsHLJqdgCJARAYBmC3Ryy+9dGJ+LrSTWqkaTkRaefz4/fffX1lZCTzh1YW1HUR0zE6cjw2qFycZtGXkKhm1CBAhGkPGOHAISCDOSc23qJqwZMRByCkGPlAFlVY3WCpEJGMQQJgdu1gx0XAeQfp+uvzS7D78hJEZEYGIgMC5/tyxY898/QwR8aCxIQqI6/e+uHbt5u1bDGKIOJllAyKzuGQDoRYWQSTAHYIT3h6ETWShThGgFn0yaAV/eLGxp9bc1bTd2vdSaQgh55Q5Uf21ZOoYpyrRHMVZaAzAqReQOiGqfE8tnDrwxAGXuNJQ8CyCCNx7cP/f/u3fVlZWkYjIqH5hkZFOBxCV9wszGwLX2Zwg5bmkvoLqja1IhX4/Ws2XqU+FjWlB0+lIO9rBCKvPE2cG8TVCtEhM2VZCdT+YWURR49d7h7efyq6IGGOMsSBu39T04sLpbmdEmQ0LlarTQMLt7d6lCxevXL6MIh2yGvlgBGvMiLXMTAAEWCwTEnh9pMBF1hWAdGsRIupIMITolRgiVFVVgMe74jtuYiw8R2xNzm0tUfnUT9pc6RzXw3bSDngFiNAYIhR2vLCwsLi4aK31FjJjAf//qnJffnnz3Xff6/f7KiL9fl+piGicqyKC/B6IhNJpe+QFFwwi5+4Neu2YhX0kzNujoQZQM08iAxVRQQAt1kdvGmuqaWeQSJZXIMyS+PjQCG+lqE+tN+SBv0haAUBAa4hAhF2nY+bmjo2Pj+v0E9V9F093FgZgIsPszp07f/PmLVWVtdPNzOyYXRyMbiMGv1yjLUBEB4GPHSKgAXRxFimi4i4iakfCpL3YYUji96IKAIG4dFdm7KXVn7SRuSTZmR37juq4JY9BmwM/Qw/qnmt+CJ5Gi8/TyJJTRkMCEGF2s7NPnHzqqc7IiHJBw0MEnV4tLS19+umn/X6lGtqjlQh1E7T46blLAPOvBw9Gn3DY0j7cjynUS22Kd5cS0FqsdxURUJQNs6hAs1f/EHzsBX3oHxlEUHe6SkwR1NIUFEgIEwceajERzp88cejIYfA5bsBh65UfOZKArK6s/PznP79y5Sozo9WtyLpVSNR2Ami+aFgNwHpdDDFLHBYRP3mOw8snsVHLh/otqCwc90xjJ3xWWGlrjBFkcaw6kht5uINWxJA1uU6zzhARBaTypwqUS4AtJCwGEcQJUPbv3//Si9/dv28G2TcTh6xgICEBLi8vX7p0qd/vAYDRXT+AaldRvNEGEXasalZEzyvwvXk4RUBj5iwp/sslTABMksl2GMuAwbaaQ0ukW7VrN0HyoHHhQiUDiM528DiFiYkxKKuhMLV5ZtKvnCU8c+bMU0+dtNaks63ixX6/+vzzz5eXl0WEyIY0rcB3oV2Pr8Y2rkHFv5f0531lSRUX+Gyb30axAGEenWieqPTTfROZcCGyXwAQIkIip4drgHC5S8GXJv0jlkCQwCCRc9wdGz/zjWen9+2TNPYgceRCROz42tXr77//4drGJiIIspGs2abhYQSRegZP+dSk0BsSYruIhGAQCMIGA69I0SbmQ8quB8QRWmcDdpBYpfHxNqyVhZnz6WI56Wi2E+t0OtYYUg1+fH7+2LGjqtCacX9Fwfr6+jvvvHPt2jUAIWM5AT912JOTdYCl3KIUweDBkZXQaDlwRWxMTR3+dtoXJJTQYgtc1J0OWHpOG8qGkS/OpT5o82GzEfUs9+2b/ta3vjU9PR3McoA1MeoscvvOrUuXLgIwIqjfLXq4EKBocMJH2gQQhUIMKCmaQhDyHXVXte+nDXO1/gmyRZAbxaaNbB114Y9CzIzDEKlPEdQUmUFMVPTdWq0oGu6P9QmADM3NHVtYODXaHWnQWOJUqN/r/fvHnzxYeigCiOT5k3Ue7o0qxfmTAIo/26nmCYCQYqQr2JhYCGRmKA9tCCwfkejFEYJeymY2Wc0wQGjwnOLTtuqZtBRbVpq4Hk75IsTUKhCIUFXV6Ojo8ePHn3jigLUkTnKzWQN9+/btTz75pN/ve/nQZmNABgDCDhlSX7MVtgGD9RPmAb+C18wgeohRoEphS3ZfiMjqBCqbRjamvhIS5SIlm/mqkgfEI3KLfQaSnEXBzKqmjbEiOL1v5sSJp8bGxkmMYBYAFVQLiuL4yhdX7t29jzFJJPin0BDW+ms8nyaZ3LQjC4GQ9KgNEY3MGj9NDPhhdiJAfhS6fiksLMACXISdUnzGUi7KR41B5GNMcRit4/kKpWkw4kwYEXv9HpE5efKpubnjCBRzbOtXFM/Mjx8/PnfuvHOOrGmaIohi3pT30M7wIoGrgwBiU1oCZEpyCHzFEczhjcfPWmobMIjNfxO8p6W2t8HYxFi0q6ru5NjJkyf3758F3VOUeQpRvPiLK1euXr2qX7M9EYlig5CLqI3UWJHM3SnnNcHWAgCzA8QBSekZVIEv44cd6kMQhSgENv6WsgwnR/Q1243ikj4sDEkYf7nnJL5ojIkBRWPM/Pz8wsJCXOxuYSWRxysrvzp79tHDh8Z20sV9/bWojBq8U4ZWlgqHx4RBlKyNEAJYiXWREG6JGIxbFv3QAgGK5JoUV1HNROmPNesz4yJx9sTyCeWl1bYNIaFj1uC7MXZxcfHQoUMAqF55gRxErJz7948//uDDDxGRwqaiVMvnYPn/E6EG4ohoN7PX4DrlpkIQKODRN0tRsMRz6kBPdLhDaKPBjDw1hADpr1L6msQsVCOvrpa2kKGMBQC4qo4eefKZxYVupyPCwiJECauCupDAcvPmre3tniHDoL57bXix3ATpP3Q6HQCoqmr4jt/U2tWwiwiyBuKUAnrKDwAAkuYQYAg/pcC04i39NbW7mQRAxtEtraQWomyd9SnGtSrIXaO0MiGGNBYUwPm540ePHDGEiiUFL8WRMWQMTUxMeNaTZkamWnUNZ9frva5ySsto8IvBto6UCEL+EAMSiM9tkTom78npDXFOyGazhfmN7lBthH8rReNWvkEcOLcgIkMURWSsO7bwtYWRbtcJAyEwOMncEAF07Pr97fWNVSQQZuf6iOrrx4k0MDsiISIhcOy8GUAQFuFiVlFPSgoJCDjy/49nORZDiPVVQw0a6W5wW6enl2IYOxggHAV3qxLQOkQESJFPI/fpZ50D9/vbCIiEZ86cee6554wJOoQQuN6yGnLrZGlp6erVq0eOHH76qVP37z+4fv16lMWq6jMIoZKfe72eiPgUUkI/2U3S2YohtGAqrFFBSAONrkvhU4jm34fVhTSaMMSgptp7V2vCv3mJqeFhRVMMGGEeHRl97tnn9k3NxIXxyFLqgftFdpGq755/7tvHjx//2tfObGxsvP3221evXt3c3HTOTU9PHzgwMzU1ffDQQRC4d/fuzVt3rl+7fvfe3f5W38tlnsiXOifp88KwYUhoT2ctrQHKIao7JUnzp6+ughrNxXbUbyinxJFhVTMgUcU8PbPv2PE5JEkDzto8hDxkAEAwR4/OHTlyTF2m8fGJH/3oR5ubG71er6rc1NTkyGjHEJEx6vZsbW7fv//gs88+ff/9D65c+WJra9taG0WwQFz6MBphrDkAUNcsg8Tv1VEsEBVbVi/ZQkNYWt2m4tfIy/VPyalFIg4gRKryxtVOExpGRsJnzjwzu3+m4oqACOtXYg6uBL/cmI5Gl0XEucoYnJqajOAxM6ERlsoxIna7oydOHJ+fn3v55d+7ePHiL37xr5cuXer1+tb68bbayahtCEh1CwGghMlQW7xSCVjQL2O1vIvQPkI42Ga3KqiVKkNKNCpNIIBBkNm5ubm5l19+eXx8XKkSiw94NYybhLQBaDj+qHmfATtRS0xMTLz44ounT59+9913/+Vf/mVpacla2wwwpDrEp/cAAOq6E4DEg1p3cDd3WaInLgI2xn9aMJV0OYgAhXsXiQyJ/pFk02vkDkL69vPPn5yft0jNJUOhzFmOZsGJz/QiycInqZ2HhMe1kampqddff/3Y3LF//B//eP369U6ng5iFktJ9GaLZ7oRAftUvha1AC/lUDG+BIadNs3HUnUJJkreFr0rP4W/F/uITnQp5a8Zy5NDhb3z9GyOdEWaHzRk8g3DtuqS/eipijV9oGk8sUYYE3/zms+Pj//mf//mfL164GAW01QagBjuDLxDxv1f2Lyxz7IWSBnYKOA1oVBLnrLVa8asHPSY3MZ88ceLJw0ck7OJr1k/b9qqTyGjmojEaSip0LiRil6EAAQGryj399NN/93d/98qrr+pSATZKNtJdoCKmvAzB1fBGbCogzeyrOP6Y+NgcYYG1AgJQeyBgkRDRIDnnxkZHnzmzOD45hgAS9u/FRsCvUAL47C/q9XqPHz7c2tpaX1/f2trqjIyMjY/t379/enrK2g5zFH+UOpJaS4awaLi06rvJ8ck///FfbG/0zp49S8avLNYnoQEAAAOwMPkziBDDlhu9SSRqqjBGAEEQ8ns3kARYhFNcpZTA8Ed/qmNBae3hRPNQBpXXKgSSLLT5CmrTmPv9/sLCqYWFBaSWFav4FRGckwcP7t+7d//yZ59/8snHa2trvV5/e3ubiEzHzs7Ozs3Nff3rX3/mma/NzMyAz9HXKHrZMHt3FhzzgQMH/uZv/oaZP/r4IxWFluFhPQSicIFNLv2a1P0VtsqkxTZtV2tzQ/oo1KiWMrOI/FkFzjkwdGpxcebA/jSBJcW76qW1tdUPPjj73nvv37hxo9/vgzhjDCKJsKtgu99bXV29cePG2bNnjx079tprr7722mvWWr18pnRywiFKiAiIFbsDB/f/4Q/+4NefXtzY2ABAbvqLeiNQQzVJskwyiPmGF6lPFQAssiIKYsQPTVUbkdbcVFyIkYS0S281neuOjMw9+eRop+MPZlPURL8AEQm3trY++ODDn/70p6ur69ba0ZEuoTjHuiOPWUzHdjodlacrV67cvn1refnR66+/PjU1pSmqkIVAJCbKAQACOsdT0/vGxidWVtessdEqerDDboBW84DJKYaQiEWNB8xbywuqC0eEAAJClKdeNd+JktgwkjpTaVH9WX+IutCK6FdIpian9u3b58+4EkmTErSOsHz66advvfXW2trayMiI7XQQUSOSGulUmGPyDxFVlXvrrbf+/u///saNG6Mjo3GtzY9IoN61qZNQoompqbn5eQbV3jn8O7kYTd+mHdcDLLxaFgDQdOQ8tjegoVT9hZqaikD6IXVCCgeDkEZGRg2p682zszMHntgv6APqmkzHxIyuEicED1cevffu+8vLj0ZGRhVwZscgaLCOECVmUNFtjTn/f8/99//6325cvWbI2HDtCkO5JxIAEGVmeuqP//APnjx0UKoKc7RqLjuKoIAlMiHOiMktFtEENjVwq05O6JFlvLXf3LarItm/VFOlQ5WwD7kKLsTk5ITtWMfMwj5BVmuJiMj2du+9997/6OOPrbW6xU5EHLsonq22CEOQ9fPPP/8v//APH37wQeWqhn0py6lTp546eTI5T7BmVXWjCBGhZj4I+ifFlTQ8w0IrNQhQV4H0yLIUg7vBP+YWO/J+YZ3UeWcQJywIhszc/PGx8fGC2HomkGM+f/7Cz372883tbWttn52ux3JAfp1frvGBeqIAIkLWAJlPL3++8dOfHjp8aG5uDph93nSKCA2uESFAt9sVKbmV9ZYYQkFw+UYHCTHnlCQY3MhgAxpxypQjFXq/J0WyNPnC1KSEbSqyFOMYogIR0PRXgLDxSmRqcvLpp5/ujnZLegqKQK/XO3fu/N2790Y6HSIkQNF1YwFhRj16TvSk4rjpRQ8fANF5s6FOp3P79u1f/vKXvX4/HX9EkGpFBLDWjuesoACTToZ1dc+nyJduSKvyCV1kHNyUBtSEfgCQvcyERQTahKPg/ZQeNb+woAgBLp4+feL4cZEypI5ILHLlytWLF3/d6YyiIAEqcpH9iUuKdISWfxpgccKOnS7hXLhw/s6dO4iYpu6GzsAnOiDOzswaY+KsrUZr8k/nWmkWyPBcwhRjIhLd2dA5qM0kQEJsOS0l/VozftROSuRAZwyTZEIDqEFQPWAsNwMgCDg+PnZqcXFiep8KatxChACIUG33Pjr7q3t37hjTccKEKITsdJkZUSO4ehlhsmUPQ8DLnwzlDwUUIusca/Zt9IILK0dEB544MDLS2e7V4cjAQzE6IIH7B06PUhWEGNMkQ4SxjryR6jOuI0zoc0Ob5lfaZhnKJwAggJDoGd++aOwAY10tmrVBglNT+47NHTcj1nN0yEpWbXjliy8++tVZQrSGKnaVHswAddslJKEgIoRzXdWkO8e9ftXpjCASsD9sxlPCD06TX7Az0iEihHDArB8LIxrFviTpF+n2wqGlOb3M/udBFQCE7N6K3RStSYlt2FEeRcQ5R0RjY92pqSl2zC57BRG3e70Lv7748PEKWeO3fshuJR0CUmr/BGHp4dLN2zcFhZFblxaCSVWtj2hIEPQfg7AO0hgggvw8lFT4MD+JsAFW1GLtMKPOCfR7saW9GFsBPSf7NKMQpDpUpFCpCACTExOjo6M65BS5IrK0tHzu3DkIx0xyUoYwR6o0UlEmos3NzXfeeWd9fV0PsS89RfB6bHt7W3txrj7lXkPRTtOtQgdFWD921Iq0JuqiOUyfiD/4qxEJkeZUcAAW0i18rZjSNnTf5Pz8/PjEeNEXIorwlS8u3711e4SsSXOy9j478ellQCj42aXPLl28ZMAQtjOpiPR6PWanm/rU+dHPyAyOxbEwO+eqqorpmjoDT8vuwWuWMpKXsW0Y/IA+0mkYhBgsB+4PRhrQ74Dv2CcOHeyOjGDuFDPz1ubW+XMXqsqhMSys0y6tEO1bE8hWhMa3rO2sra198sknvd5W8CMTsfb/werqmnOCRHq/MnvvAkXIsfQ1p845DURLmFRGXk5dmNQgD6FKAXxyH3ibqsnoHBdPvOen6fB6VIuLXwVYxGk8HDRcIYiIk9OTBw4+4R3+oG3Vaq6urN64/qWereR8/l/mYrepOP8hVcFRC+lyOiLeunXr8eNHWHOL7xgRBLGqqtVHjxEN6sIAgo9boBUkpzN1yGx36nek4DXVRvxb8FDB3DTMhgwthXIIV5K3U15ExsfHJycnIfNPAQSE5csbN1Yer0Spae2r+SRCjnmJbSPR/Qf3b9+549d86n+6n0L6/f7yw2WdRXuNHGz4oFG0cmorZoarpoirlhOzohClDUkz4hFK07ZoM/lXOHjwienpaR8o9kFSEIHNrc1fnT27tr7W6XTYZ+c2ggNl47Xlr6qquSTCIuz8Zu3NrS2VxjiKkE1L6xvrSw+WHDOY7EhVaEnJKGEYoqVjwK75Vio9+mJNgEEJXxB8Tckv90mrFSl5RQVdNpqamup2u5GDNBWCEO7fu3fj+g0iIiQB55wDASSKa3facNHvcCWLAIYQ0UyMjU9PTlpC57xvFh0dEdnY2FhdWyNEKZwIddHzeVazF4B2E5WGwQthKjgVAcsbNFI4miqlVcl4wSwzS7Iux8a6x44dM8ZoJ2FmCgJw+fLlBw8eCPitvLpFK8pa1PnKMsUyZ862dfE1RYwh2+nU8yFCBBJgQBSWlccr29tbzIxhR3FrGa52vCyrWRcBSPYko59ktslTnp7eZP8hcuQ7BhPG6UU2wRsI+ksUmJ0xZmp68siRw0R+Vhy0FG5tbl29dm276tvOKCM4jRwAACdLZABhDl4qOv3L+TXFIuJYRJxF7HZHjTX9cG4Uav4WoDC4Pl+/dmNjcxsQUVAYwW8pbjGYDeR5FKAhY62ygDpHiOj3UGrNqM10B4cfEAOSv8KkSZpCqQ0kflvyWo0aH5dA3Qc5MjIyMTGZVtCEv+3e9sNHjxAjqwwo/mKSkhMHM6YgAhIdOHAgbPuuByUAgNTv9+7cudt3lTHGtZmx2J0kWaFpv80Td4bb3qRm/dCWzkNO82aL6E9EEpbyLLlGH3UjU1NT3e5oGnRywkS01e+tb24IQjwvQILKL4AHqLGADUcQIFehAoZMt9tdWFiYmJiIaI9tAfLKyqM7d25ag2jQVeVFQk1s1jTA+qtOEYwxqd5uoiuFMCWAiNgU+7spQelGRO3glikE3W53bGysnrirERa5f/fe4+WHBJnMNYch5ZW9w/oCAI3LTk5OzM3NdTodKOQGAIHuP1i+f38JyUIgz5Cx5Lo3qJdkcSb23mqQ8tcz/i5vUdqxJHavxQFoLSExVA2dB4WItnvbl37969WVFSKDxrBriZql/Q7prnXYRKbb7UKLfsPK8ZdffrmxsWE7HVXgEVRo+NxNFpZkS6/KwY5IGFRqI5yOLRUo/zxcBIAACi7jQGQBAAqJptAIIMLMvv2UbEvS3Xki/PjRQ8dijAFGAMQQZmXM2Co892sCElQUEYYtYPViHDNba5ndgUMHJuoU9mD3kUBgY+XRlc8vO2YLqNu/yMRD3wAU6JTYyZ41Fh5y0WFa0gp1Nn8uans5O1r8CAY5Vs0S0IeTk5PGGK7PbUMR2d7e3tjaFBDyCROJnczH1mTGBD79kz13zk1NTb7wwgv7ZmYaoCKg3L939/btW5oHr6+3IjHo2cz2NqHaZYnqV3zKZZiI7bLstb/Ujul1Cuh37qEICMiXN29++eWXurGLk31hkOjNVr2c+ideXYRNmRqtJDIvvvji888/PzIy0ralEu8tLT1aXQVD/Ty02TrkaMLLZMsBZZBAxLkN6JQQAQCs5AlucWxlHwLxQjx1gqAtxpRiJ5pcXfuG2rURACSijfX13vY26hUNjbhbnHm14iV1EAGAWXSSoThaXDz9+7//+5OTk3pyZSCnNuj6/f7tW7e4qiDfPdnqR7Jwssy3qxJAyvY91oYE/NYz/Up6OU5zkCk9EPX48zoa3gQoOsUxiRzD0ry1NmzRqonELNPT092xMQAwyW6niETII26xQvMhACCCypBz7vTp0z/+8Y+PHj3a5EUd0fLS8tUvrlS9vk+5yH8dvgT0Wy9kyRIScIu2bZQsFyytpp8xLN0Rkd/chgiEfVf1XU+AfZRYMx4Anjx67MjRo0BYuZ5o+gciIAloZFgcO/bpUb6E9nXhXxAExAG7uHI1Nzf3xhtvnDnzDBGKP2Vbz3dEEWQBQrp969bNW7d7rhJ1h012d2/hl8eu94rZ+hX1GUTj+Vg0SCiAexGxVmgKlvEVEJGQmTudzuTkZLE6iogTU1PPPvvcxMQEs3NcAYjHa7J4LfkkKh40RAiEQCHrkIWrqlpYWPjrv/7rZ599FsO1SZ6dBXRLDQJW/eqLy1+srK2RMRryiwa8fVxhurPXkjcEYeEqmwcAgGWf5jT4eoQGAUKbua7Ml0zjZ2aenpo6ePBgSifUFVeRb3/7W5999un5C+c3NraikLW4WOFN3wtROLfdm5l+b/vJo0d/8pO/WlxcTB3IYCpAz1FCY1aXV65eveIqZ0eylJxoVNoGi6UrsDtc7UaV2eh7cLKxHXIqqRFwbdGYtLNUfaX5yd2xsTQBTXlWXb+ZmZkf/OAHj1ceP3r8eG11bX19AwCtNVEXBz+kFl7wublKJgYQZp6anv6jP/qjU6dOhcRxD1WYWOn0X0Tk88uf37h+nQwhIAtT43qDqIgC+iQs7bWc21b4DgUVgyYAzI6+AOecpsJ49w0bFB0oSnsp+joRebsdtyJJzeLs+Kmnnnr1lVdnZvZNTk1OTk1a601yreuwbNY5p3eJcOX6272piakf/OCPX3nlVWs7wdXOCvq5Cz24v/TO2++urq2bmDudJ3q2jAJinD3R6UPLcLORdyQ26KcyUUcaNrnsJgcG6w8I4K+CgUhLAERkx0SBGwRAoGJniF566SUguHTp0vLSwwdLS48ePnIVQwxue6RmYQAnTkSmpqaefPLJ7373pZde/r3JqUl/mklx34mIZoT3+v133333/IULttOJI1IFECMQLf4VaL6BRoA8a7QifZfMGgaFiAgCePTQQecq5yo3YA0oKBOJWdxD+AURdTe6Yx/Y6ff71trvfe/Vv/zLv5idnWWpIAkOS3QrEdZW127cuPHpp59euHDh4YPHvV61tbWpniWzyw04jHZHnvvmN7/32vcWTy92RkbI+CPeU00Yz7ZFol7fffzxR//0T/+0vLyc+jwp5FEXpTokAgmRI5C4DgpkqB+IlqR++iIA4JOBADyAAF6vBRMLzf1fOQE0Nhv3HeoAnHMvvPCdv/3bv52ZnXauSuEupHVjY+PmzZtfXv9yefnhtWtXe73e+Ph4VdXz1W63e/jw4ZMnjy8ufm12dlaxw5oUkO/kQV1adtyrqnffe++tt/7n8vKSMXojWMlDX4EAsa8dM/iGEeDI4YNV1a+qPmL7slxKgAK+1srqqscrfNFPxwRA3njjhz/5yV8RUchPhXRsEmKCnU5HnNve3l5dXauqfrfbtbaj26GcqxBpdHTUWhO1B2oQDzMGEhGdbSzff/DOu+/+r5/970ePHo+Ojkh9on2ZRVLc1DIQGyH9tmmKC/yUshhKqugsOEEWkmQfYcOl0Ub8umPp4WVtS3IonZawmm+Y+Wc/+/nk5NQbb/zQGOK2qz60TeecsFjbmZ2dNcawc5SveJSOSqClbyR4GFsbm5cuXXrv7XfO/uqjvnPWdnQrlYTT45qcPgDteZFhLLjXgocO7NebyTjfK1CIlU86jzAMBYD8BCcpAgLIzo2MdL7/B9//0Y9+uG92n7pE2iyF65oKw4uI0fg4V9WeoXcKhVnIeJcXEauqWl9fX1/fuHvv7ofvf3DhwsW1lRUyFpMrXySEmwoh2EUucK3bAh5awqJ7kgB84sCs5hMWvTcIsMPcAyHTYBQGzMxqFVKHb2Fx4dXXXv32t781u39WWJxzkGzZSDeBAoCIZihjv18BiDEWEYH9HTL+HCwWFllbW3v77bfPfnh2+fHjjY2tzc0NTEoa5GkagNbn9eAkmxvteD1F+X7eKqZZZQf2zzA7gOBjhfIbEgAbl4hF7DvnBKTT7Z5eWHjl1VcWFxdnZ2ZGOgYA/Kl7/thn7vf7iNTpdKp+b21t9dGjRysrK4aoO9Z1jonQGMvM29vbva3tu3fvfvbZZxfOn9/c3CTbQSLM7+CS5ub9xuj+PxBg/+yMiBPhwgjvbNmLMTQIkNpVTOL7mtpqTMexs9bOzs6ePHnilVdeOn16YXNz6/bt2xsbG4i4vrp2/cYNEZ6dnV1bXX1w9+7m5pZzbnNzw1jbnRg3xorw6uraxsb61tZWv993zhkyZPyR6koAvVK4dVCDyABBoQW+0RycuuZXI0Ch8fxPB/bPaFazSLsiG9houWBArT9JfgRyUMEeiKpyGpTojnfn5+edc3fv3t3e3jaIIqJJ4YhEIIaQwon3LALhMEo/h3KMGhInYufiESaFH7mjWMcn/3EEOHhgv6YkRwJETO3Q6FACpK+nBGCWeKQoJEaMRRw7Q0Ytr6WQm+iFxllrBUCYiYj1TCXRlQ3S6IT27EkcoivFKHavVyOyftcE0NMtVGazLSt762Hoi55JtVPy/q7PriEC3Uss0AGbLjZLmDELoiBVuhdVwDmOtcRJOG6xtth+LG0jGITxpg1InWz9BCni0mYaceS4mTRdZI3tFzDYJEL82ynNPoaUWkWEIGlsxKMYAHKFAACCMbtxD0GY32FJ+x88dGyEmeG3fm4oxpnwXnbSMjOSKZ7HBqWxDBl9+eaQfjfE2Gm9asCvpbpv40v7lTmomIMoU8bJTktnCNDk5cRJTZtt+ulFzVRpNAcZLyIZNLRBzzG/lqCGfAiG8l9F4iWb7f0WLgn5c/x3l+fzH1CUPBTKoAoFc/1uy44r9bvjYPZn9YescgAAsKBr5AIAuSgUlj4Mt2bV8AMkzwtmTCunFdpEJN4NLSJgkhwLtcNJpzFTDkXvS0WUXLBQ09CTOzYb8poNtiF/kKmVuKE8hJ70//XmYRQ/QD0UtQZUUk5JNWdMIrG6DKs5BJDJZjHParDbTtI9UBe1FoSILwFxIVsEdTErtFFPqUQQQ2iwcTM5IQqQqy9q3nkmn4+hAV1Aow81Nnzcwiylzz2IAACguy1VuBU5NnV49wDi4BJ5fJd2OAK6147imNm51H0C8FHblPypW/mVi4QCoTVtMD23rdjFJSIsEjcqR+UT146s5DHC2K7ONJtAZA5ymyIurGgUW0g8lrS7plJCxPSGXq9M2vrykDcA1XX5FBettr1ZguNfdhTjg2ov0zPWUiQUQq9caCibosblT23Q6rnFKaxFokBr0T6ae/Z2OUJoo0RugfJmoayjYTsIAR+Umicab+8KnhyqYAfyCRrqKUspmDrryw/xaOAkS+GJukHr125oSkYikp22RJhwH0I7DRpuYnrfH4C/xxHrt/Q379PpCkyYb9XmNL5OBOmWNADU5CaPOKnV9HDjP/BrsJvoj1LxF7n7JFP2ik49gnq0AGqy9bvTY28C/oPFBhHWL1Ic3JrB0SB+Np7kCQEg1WvioIv4gSyhfRFxiFSfpac3vEf5FTRU3y5JxijUjl30gVKBQ9C0CT/5CGCHCIc/mBC3t7dTzFJy/m9Bj5yTQoOkIyOj88SwPauxkd+HQ4j0jAl/xhAhEhk9navuF8EBezqlM+FC7VC8JxNAQJDIXxYXrJwESJEI/YHaCMEzS3VTIGF21p0xhmvhAzSk6zberjJrWqMhE5VkLawAut8m6tOMdQAwLPDG3VvxuSb/NveANhUvBp9dBPSqR/IBV4zLt8pb/b54dBuDxFy54FIq2Do7g/iPksDl/wPkJOsRIaoshwAAAABJRU5ErkJggg==\n",
                "text/plain": "<PIL.Image.Image image mode=RGB size=128x127 at 0x7F166BAB5810>"
              }
            ],
            "_view_module": "@jupyter-widgets/output",
            "_model_module_version": "1.0.0",
            "_view_count": null,
            "_view_module_version": "1.0.0",
            "layout": "IPY_MODEL_c7d1e8a4849d414e8f1d32dcf7b67a7e",
            "_model_module": "@jupyter-widgets/output"
          }
        },
        "cf8f840c78c34d0e86028957fd2f0b80": {
          "model_module": "@jupyter-widgets/controls",
          "model_name": "LabelModel",
          "state": {
            "_view_name": "LabelView",
            "style": "IPY_MODEL_48d177fe09d4447fb6e270265af2e708",
            "_dom_classes": [],
            "description": "",
            "_model_name": "LabelModel",
            "placeholder": "​",
            "_view_module": "@jupyter-widgets/controls",
            "_model_module_version": "1.5.0",
            "value": "Prediction: 6; Probability: 0.7856",
            "_view_count": null,
            "_view_module_version": "1.5.0",
            "description_tooltip": null,
            "_model_module": "@jupyter-widgets/controls",
            "layout": "IPY_MODEL_729153a8edb141a1b2d50c1c98c37ce7"
          }
        },
        "30837a23689a4b35b4246709fade0a64": {
          "model_module": "@jupyter-widgets/controls",
          "model_name": "DescriptionStyleModel",
          "state": {
            "_view_name": "StyleView",
            "_model_name": "DescriptionStyleModel",
            "description_width": "",
            "_view_module": "@jupyter-widgets/base",
            "_model_module_version": "1.5.0",
            "_view_count": null,
            "_view_module_version": "1.2.0",
            "_model_module": "@jupyter-widgets/controls"
          }
        },
        "ff9cd524777f459daf06110a567eccd1": {
          "model_module": "@jupyter-widgets/base",
          "model_name": "LayoutModel",
          "state": {
            "_view_name": "LayoutView",
            "grid_template_rows": null,
            "right": null,
            "justify_content": null,
            "_view_module": "@jupyter-widgets/base",
            "overflow": null,
            "_model_module_version": "1.2.0",
            "_view_count": null,
            "flex_flow": null,
            "width": null,
            "min_width": null,
            "border": null,
            "align_items": null,
            "bottom": null,
            "_model_module": "@jupyter-widgets/base",
            "top": null,
            "grid_column": null,
            "overflow_y": null,
            "overflow_x": null,
            "grid_auto_flow": null,
            "grid_area": null,
            "grid_template_columns": null,
            "flex": null,
            "_model_name": "LayoutModel",
            "justify_items": null,
            "grid_row": null,
            "max_height": null,
            "align_content": null,
            "visibility": null,
            "align_self": null,
            "height": null,
            "min_height": null,
            "padding": null,
            "grid_auto_rows": null,
            "grid_gap": null,
            "max_width": null,
            "order": null,
            "_view_module_version": "1.2.0",
            "grid_template_areas": null,
            "object_position": null,
            "object_fit": null,
            "grid_auto_columns": null,
            "margin": null,
            "display": null,
            "left": null
          }
        },
        "b9e54ef05f68478bb016fc721e08e1e2": {
          "model_module": "@jupyter-widgets/controls",
          "model_name": "ButtonStyleModel",
          "state": {
            "_view_name": "StyleView",
            "_model_name": "ButtonStyleModel",
            "_view_module": "@jupyter-widgets/base",
            "_model_module_version": "1.5.0",
            "_view_count": null,
            "button_color": null,
            "font_weight": "",
            "_view_module_version": "1.2.0",
            "_model_module": "@jupyter-widgets/controls"
          }
        },
        "02f6f396676348fea3241847aafb9906": {
          "model_module": "@jupyter-widgets/base",
          "model_name": "LayoutModel",
          "state": {
            "_view_name": "LayoutView",
            "grid_template_rows": null,
            "right": null,
            "justify_content": null,
            "_view_module": "@jupyter-widgets/base",
            "overflow": null,
            "_model_module_version": "1.2.0",
            "_view_count": null,
            "flex_flow": null,
            "width": null,
            "min_width": null,
            "border": null,
            "align_items": null,
            "bottom": null,
            "_model_module": "@jupyter-widgets/base",
            "top": null,
            "grid_column": null,
            "overflow_y": null,
            "overflow_x": null,
            "grid_auto_flow": null,
            "grid_area": null,
            "grid_template_columns": null,
            "flex": null,
            "_model_name": "LayoutModel",
            "justify_items": null,
            "grid_row": null,
            "max_height": null,
            "align_content": null,
            "visibility": null,
            "align_self": null,
            "height": null,
            "min_height": null,
            "padding": null,
            "grid_auto_rows": null,
            "grid_gap": null,
            "max_width": null,
            "order": null,
            "_view_module_version": "1.2.0",
            "grid_template_areas": null,
            "object_position": null,
            "object_fit": null,
            "grid_auto_columns": null,
            "margin": null,
            "display": null,
            "left": null
          }
        },
        "541de12a2e504fb99a31338057fbff6c": {
          "model_module": "@jupyter-widgets/controls",
          "model_name": "ButtonStyleModel",
          "state": {
            "_view_name": "StyleView",
            "_model_name": "ButtonStyleModel",
            "_view_module": "@jupyter-widgets/base",
            "_model_module_version": "1.5.0",
            "_view_count": null,
            "button_color": null,
            "font_weight": "",
            "_view_module_version": "1.2.0",
            "_model_module": "@jupyter-widgets/controls"
          }
        },
        "1f7a25d5745a4d4f8552c5feb6cfe410": {
          "model_module": "@jupyter-widgets/base",
          "model_name": "LayoutModel",
          "state": {
            "_view_name": "LayoutView",
            "grid_template_rows": null,
            "right": null,
            "justify_content": null,
            "_view_module": "@jupyter-widgets/base",
            "overflow": null,
            "_model_module_version": "1.2.0",
            "_view_count": null,
            "flex_flow": null,
            "width": null,
            "min_width": null,
            "border": null,
            "align_items": null,
            "bottom": null,
            "_model_module": "@jupyter-widgets/base",
            "top": null,
            "grid_column": null,
            "overflow_y": null,
            "overflow_x": null,
            "grid_auto_flow": null,
            "grid_area": null,
            "grid_template_columns": null,
            "flex": null,
            "_model_name": "LayoutModel",
            "justify_items": null,
            "grid_row": null,
            "max_height": null,
            "align_content": null,
            "visibility": null,
            "align_self": null,
            "height": null,
            "min_height": null,
            "padding": null,
            "grid_auto_rows": null,
            "grid_gap": null,
            "max_width": null,
            "order": null,
            "_view_module_version": "1.2.0",
            "grid_template_areas": null,
            "object_position": null,
            "object_fit": null,
            "grid_auto_columns": null,
            "margin": null,
            "display": null,
            "left": null
          }
        },
        "48d177fe09d4447fb6e270265af2e708": {
          "model_module": "@jupyter-widgets/controls",
          "model_name": "DescriptionStyleModel",
          "state": {
            "_view_name": "StyleView",
            "_model_name": "DescriptionStyleModel",
            "description_width": "",
            "_view_module": "@jupyter-widgets/base",
            "_model_module_version": "1.5.0",
            "_view_count": null,
            "_view_module_version": "1.2.0",
            "_model_module": "@jupyter-widgets/controls"
          }
        },
        "729153a8edb141a1b2d50c1c98c37ce7": {
          "model_module": "@jupyter-widgets/base",
          "model_name": "LayoutModel",
          "state": {
            "_view_name": "LayoutView",
            "grid_template_rows": null,
            "right": null,
            "justify_content": null,
            "_view_module": "@jupyter-widgets/base",
            "overflow": null,
            "_model_module_version": "1.2.0",
            "_view_count": null,
            "flex_flow": null,
            "width": null,
            "min_width": null,
            "border": null,
            "align_items": null,
            "bottom": null,
            "_model_module": "@jupyter-widgets/base",
            "top": null,
            "grid_column": null,
            "overflow_y": null,
            "overflow_x": null,
            "grid_auto_flow": null,
            "grid_area": null,
            "grid_template_columns": null,
            "flex": null,
            "_model_name": "LayoutModel",
            "justify_items": null,
            "grid_row": null,
            "max_height": null,
            "align_content": null,
            "visibility": null,
            "align_self": null,
            "height": null,
            "min_height": null,
            "padding": null,
            "grid_auto_rows": null,
            "grid_gap": null,
            "max_width": null,
            "order": null,
            "_view_module_version": "1.2.0",
            "grid_template_areas": null,
            "object_position": null,
            "object_fit": null,
            "grid_auto_columns": null,
            "margin": null,
            "display": null,
            "left": null
          }
        },
        "c7d1e8a4849d414e8f1d32dcf7b67a7e": {
          "model_module": "@jupyter-widgets/base",
          "model_name": "LayoutModel",
          "state": {
            "_view_name": "LayoutView",
            "grid_template_rows": null,
            "right": null,
            "justify_content": null,
            "_view_module": "@jupyter-widgets/base",
            "overflow": null,
            "_model_module_version": "1.2.0",
            "_view_count": null,
            "flex_flow": null,
            "width": null,
            "min_width": null,
            "border": null,
            "align_items": null,
            "bottom": null,
            "_model_module": "@jupyter-widgets/base",
            "top": null,
            "grid_column": null,
            "overflow_y": null,
            "overflow_x": null,
            "grid_auto_flow": null,
            "grid_area": null,
            "grid_template_columns": null,
            "flex": null,
            "_model_name": "LayoutModel",
            "justify_items": null,
            "grid_row": null,
            "max_height": null,
            "align_content": null,
            "visibility": null,
            "align_self": null,
            "height": null,
            "min_height": null,
            "padding": null,
            "grid_auto_rows": null,
            "grid_gap": null,
            "max_width": null,
            "order": null,
            "_view_module_version": "1.2.0",
            "grid_template_areas": null,
            "object_position": null,
            "object_fit": null,
            "grid_auto_columns": null,
            "margin": null,
            "display": null,
            "left": null
          }
        }
      }
    }
  },
  "cells": [
    {
      "cell_type": "markdown",
      "metadata": {
        "id": "view-in-github",
        "colab_type": "text"
      },
      "source": [
        "<a href=\"https://colab.research.google.com/github/baichlseder/voila/blob/main/voila.ipynb\" target=\"_parent\"><img src=\"https://colab.research.google.com/assets/colab-badge.svg\" alt=\"Open In Colab\"/></a>"
      ]
    },
    {
      "cell_type": "code",
      "metadata": {
        "colab": {
          "base_uri": "https://localhost:8080/"
        },
        "id": "Cfu0NuaAzdb7",
        "outputId": "8103e114-efd9-4aef-cb97-4c641780fc74"
      },
      "source": [
        "!pip install -U fastai "
      ],
      "execution_count": 1,
      "outputs": [
        {
          "output_type": "stream",
          "text": [
            "Collecting fastai\n",
            "\u001b[?25l  Downloading https://files.pythonhosted.org/packages/5b/53/edf39e15b7ec5e805a0b6f72adbe48497ebcfa009a245eca7044ae9ee1c6/fastai-2.3.0-py3-none-any.whl (193kB)\n",
            "\u001b[K     |████████████████████████████████| 194kB 4.2MB/s \n",
            "\u001b[?25hRequirement already satisfied, skipping upgrade: pyyaml in /usr/local/lib/python3.7/dist-packages (from fastai) (3.13)\n",
            "Requirement already satisfied, skipping upgrade: requests in /usr/local/lib/python3.7/dist-packages (from fastai) (2.23.0)\n",
            "Requirement already satisfied, skipping upgrade: fastprogress>=0.2.4 in /usr/local/lib/python3.7/dist-packages (from fastai) (1.0.0)\n",
            "Collecting torch<1.8,>=1.7.0\n",
            "\u001b[?25l  Downloading https://files.pythonhosted.org/packages/90/5d/095ddddc91c8a769a68c791c019c5793f9c4456a688ddd235d6670924ecb/torch-1.7.1-cp37-cp37m-manylinux1_x86_64.whl (776.8MB)\n",
            "\u001b[K     |████████████████████████████████| 776.8MB 21kB/s \n",
            "\u001b[?25hRequirement already satisfied, skipping upgrade: matplotlib in /usr/local/lib/python3.7/dist-packages (from fastai) (3.2.2)\n",
            "Requirement already satisfied, skipping upgrade: packaging in /usr/local/lib/python3.7/dist-packages (from fastai) (20.9)\n",
            "Requirement already satisfied, skipping upgrade: scipy in /usr/local/lib/python3.7/dist-packages (from fastai) (1.4.1)\n",
            "Requirement already satisfied, skipping upgrade: pandas in /usr/local/lib/python3.7/dist-packages (from fastai) (1.1.5)\n",
            "Requirement already satisfied, skipping upgrade: spacy<3 in /usr/local/lib/python3.7/dist-packages (from fastai) (2.2.4)\n",
            "Collecting torchvision<0.9,>=0.8\n",
            "\u001b[?25l  Downloading https://files.pythonhosted.org/packages/94/df/969e69a94cff1c8911acb0688117f95e1915becc1e01c73e7960a2c76ec8/torchvision-0.8.2-cp37-cp37m-manylinux1_x86_64.whl (12.8MB)\n",
            "\u001b[K     |████████████████████████████████| 12.8MB 37.9MB/s \n",
            "\u001b[?25hRequirement already satisfied, skipping upgrade: pillow>6.0.0 in /usr/local/lib/python3.7/dist-packages (from fastai) (7.1.2)\n",
            "Collecting fastcore<1.4,>=1.3.8\n",
            "\u001b[?25l  Downloading https://files.pythonhosted.org/packages/0c/98/60404e2817cff113a6ae4023bc1772e23179408fdf7857fa410551758dfe/fastcore-1.3.19-py3-none-any.whl (53kB)\n",
            "\u001b[K     |████████████████████████████████| 61kB 5.8MB/s \n",
            "\u001b[?25hRequirement already satisfied, skipping upgrade: scikit-learn in /usr/local/lib/python3.7/dist-packages (from fastai) (0.22.2.post1)\n",
            "Requirement already satisfied, skipping upgrade: pip in /usr/local/lib/python3.7/dist-packages (from fastai) (19.3.1)\n",
            "Requirement already satisfied, skipping upgrade: certifi>=2017.4.17 in /usr/local/lib/python3.7/dist-packages (from requests->fastai) (2020.12.5)\n",
            "Requirement already satisfied, skipping upgrade: urllib3!=1.25.0,!=1.25.1,<1.26,>=1.21.1 in /usr/local/lib/python3.7/dist-packages (from requests->fastai) (1.24.3)\n",
            "Requirement already satisfied, skipping upgrade: idna<3,>=2.5 in /usr/local/lib/python3.7/dist-packages (from requests->fastai) (2.10)\n",
            "Requirement already satisfied, skipping upgrade: chardet<4,>=3.0.2 in /usr/local/lib/python3.7/dist-packages (from requests->fastai) (3.0.4)\n",
            "Requirement already satisfied, skipping upgrade: numpy in /usr/local/lib/python3.7/dist-packages (from fastprogress>=0.2.4->fastai) (1.19.5)\n",
            "Requirement already satisfied, skipping upgrade: typing-extensions in /usr/local/lib/python3.7/dist-packages (from torch<1.8,>=1.7.0->fastai) (3.7.4.3)\n",
            "Requirement already satisfied, skipping upgrade: python-dateutil>=2.1 in /usr/local/lib/python3.7/dist-packages (from matplotlib->fastai) (2.8.1)\n",
            "Requirement already satisfied, skipping upgrade: pyparsing!=2.0.4,!=2.1.2,!=2.1.6,>=2.0.1 in /usr/local/lib/python3.7/dist-packages (from matplotlib->fastai) (2.4.7)\n",
            "Requirement already satisfied, skipping upgrade: kiwisolver>=1.0.1 in /usr/local/lib/python3.7/dist-packages (from matplotlib->fastai) (1.3.1)\n",
            "Requirement already satisfied, skipping upgrade: cycler>=0.10 in /usr/local/lib/python3.7/dist-packages (from matplotlib->fastai) (0.10.0)\n",
            "Requirement already satisfied, skipping upgrade: pytz>=2017.2 in /usr/local/lib/python3.7/dist-packages (from pandas->fastai) (2018.9)\n",
            "Requirement already satisfied, skipping upgrade: wasabi<1.1.0,>=0.4.0 in /usr/local/lib/python3.7/dist-packages (from spacy<3->fastai) (0.8.2)\n",
            "Requirement already satisfied, skipping upgrade: preshed<3.1.0,>=3.0.2 in /usr/local/lib/python3.7/dist-packages (from spacy<3->fastai) (3.0.5)\n",
            "Requirement already satisfied, skipping upgrade: setuptools in /usr/local/lib/python3.7/dist-packages (from spacy<3->fastai) (54.2.0)\n",
            "Requirement already satisfied, skipping upgrade: catalogue<1.1.0,>=0.0.7 in /usr/local/lib/python3.7/dist-packages (from spacy<3->fastai) (1.0.0)\n",
            "Requirement already satisfied, skipping upgrade: cymem<2.1.0,>=2.0.2 in /usr/local/lib/python3.7/dist-packages (from spacy<3->fastai) (2.0.5)\n",
            "Requirement already satisfied, skipping upgrade: thinc==7.4.0 in /usr/local/lib/python3.7/dist-packages (from spacy<3->fastai) (7.4.0)\n",
            "Requirement already satisfied, skipping upgrade: blis<0.5.0,>=0.4.0 in /usr/local/lib/python3.7/dist-packages (from spacy<3->fastai) (0.4.1)\n",
            "Requirement already satisfied, skipping upgrade: srsly<1.1.0,>=1.0.2 in /usr/local/lib/python3.7/dist-packages (from spacy<3->fastai) (1.0.5)\n",
            "Requirement already satisfied, skipping upgrade: murmurhash<1.1.0,>=0.28.0 in /usr/local/lib/python3.7/dist-packages (from spacy<3->fastai) (1.0.5)\n",
            "Requirement already satisfied, skipping upgrade: tqdm<5.0.0,>=4.38.0 in /usr/local/lib/python3.7/dist-packages (from spacy<3->fastai) (4.41.1)\n",
            "Requirement already satisfied, skipping upgrade: plac<1.2.0,>=0.9.6 in /usr/local/lib/python3.7/dist-packages (from spacy<3->fastai) (1.1.3)\n",
            "Requirement already satisfied, skipping upgrade: joblib>=0.11 in /usr/local/lib/python3.7/dist-packages (from scikit-learn->fastai) (1.0.1)\n",
            "Requirement already satisfied, skipping upgrade: six>=1.5 in /usr/local/lib/python3.7/dist-packages (from python-dateutil>=2.1->matplotlib->fastai) (1.15.0)\n",
            "Requirement already satisfied, skipping upgrade: importlib-metadata>=0.20; python_version < \"3.8\" in /usr/local/lib/python3.7/dist-packages (from catalogue<1.1.0,>=0.0.7->spacy<3->fastai) (3.10.0)\n",
            "Requirement already satisfied, skipping upgrade: zipp>=0.5 in /usr/local/lib/python3.7/dist-packages (from importlib-metadata>=0.20; python_version < \"3.8\"->catalogue<1.1.0,>=0.0.7->spacy<3->fastai) (3.4.1)\n",
            "\u001b[31mERROR: torchtext 0.9.1 has requirement torch==1.8.1, but you'll have torch 1.7.1 which is incompatible.\u001b[0m\n",
            "Installing collected packages: torch, torchvision, fastcore, fastai\n",
            "  Found existing installation: torch 1.8.1+cu101\n",
            "    Uninstalling torch-1.8.1+cu101:\n",
            "      Successfully uninstalled torch-1.8.1+cu101\n",
            "  Found existing installation: torchvision 0.9.1+cu101\n",
            "    Uninstalling torchvision-0.9.1+cu101:\n",
            "      Successfully uninstalled torchvision-0.9.1+cu101\n",
            "  Found existing installation: fastai 1.0.61\n",
            "    Uninstalling fastai-1.0.61:\n",
            "      Successfully uninstalled fastai-1.0.61\n",
            "Successfully installed fastai-2.3.0 fastcore-1.3.19 torch-1.7.1 torchvision-0.8.2\n"
          ],
          "name": "stdout"
        }
      ]
    },
    {
      "cell_type": "code",
      "metadata": {
        "id": "WBGXhIHazjTm"
      },
      "source": [
        "from fastai.vision.all import *\n",
        "import ipywidgets as widgets\n",
        "import requests"
      ],
      "execution_count": 2,
      "outputs": []
    },
    {
      "cell_type": "code",
      "metadata": {
        "id": "hNoJZA9Dzphi"
      },
      "source": [
        "def download_file_from_google_drive(id, destination):\n",
        "    def get_confirm_token(response):\n",
        "        for key, value in response.cookies.items():\n",
        "            if key.startswith('download_warning'):\n",
        "                return value\n",
        "\n",
        "        return None\n",
        "\n",
        "    def save_response_content(response, destination):\n",
        "        CHUNK_SIZE = 32768\n",
        "\n",
        "        with open(destination, \"wb\") as f:\n",
        "            for chunk in response.iter_content(CHUNK_SIZE):\n",
        "                if chunk: # filter out keep-alive new chunks\n",
        "                    f.write(chunk)"
      ],
      "execution_count": 3,
      "outputs": []
    },
    {
      "cell_type": "code",
      "metadata": {
        "id": "AkyPY-2I01Ut"
      },
      "source": [
        "file_id = 'OujMPsJ5fPGSaCkoHQiJKiemcMyzOyK'\n",
        "destination = './handwritting_classifier.pkl'\n",
        "download_file_from_google_drive(file_id, destination)"
      ],
      "execution_count": 4,
      "outputs": []
    },
    {
      "cell_type": "code",
      "metadata": {
        "id": "GtNdOVtb2R9b"
      },
      "source": [
        "!cp /content/drive/MyDrive/handwritting_classifier.pkl ./sample_data"
      ],
      "execution_count": 5,
      "outputs": []
    },
    {
      "cell_type": "markdown",
      "metadata": {
        "id": "5RRzC7Ry4XmA"
      },
      "source": [
        "## Classifier zu Nummern\n",
        "Es werden alle Zahlen von 0 bis 9 erkannt:\n",
        "  * 0\n",
        "  * 1\n",
        "  * 2\n",
        "  * 3\n",
        "  * 4\n",
        "  * 5\n",
        "  * 6\n",
        "  * 7\n",
        "  * 8\n",
        "  * 9"
      ]
    },
    {
      "cell_type": "code",
      "metadata": {
        "id": "lU9qu_Cb183l"
      },
      "source": [
        "path = Path()\n",
        "inference = load_learner('./sample_data/handwritting_classifier.pkl')"
      ],
      "execution_count": 6,
      "outputs": []
    },
    {
      "cell_type": "code",
      "metadata": {
        "colab": {
          "base_uri": "https://localhost:8080/",
          "height": 272,
          "referenced_widgets": [
            "0516d2305f694ff586cb1f615a300a49",
            "fb85df4043534f94b06b26cca4f915b1",
            "83a12abeff84406dbc5c5b16a3dc2aee",
            "868c1c10ee37457c8d74efaaf581f234",
            "5ac39a1632f946b99f9faefcf0244e5b",
            "ff6c8113346b4080a79efbbe904e3206",
            "cf8f840c78c34d0e86028957fd2f0b80",
            "30837a23689a4b35b4246709fade0a64",
            "ff9cd524777f459daf06110a567eccd1",
            "b9e54ef05f68478bb016fc721e08e1e2",
            "02f6f396676348fea3241847aafb9906",
            "541de12a2e504fb99a31338057fbff6c",
            "1f7a25d5745a4d4f8552c5feb6cfe410",
            "48d177fe09d4447fb6e270265af2e708",
            "729153a8edb141a1b2d50c1c98c37ce7",
            "c7d1e8a4849d414e8f1d32dcf7b67a7e"
          ]
        },
        "id": "1pzaW_l32fpK",
        "outputId": "049e38dd-637c-4804-a91b-7e21b832b614"
      },
      "source": [
        "btn_upload = widgets.FileUpload()\n",
        "lbl_pred = widgets.Label()\n",
        "btn_run = widgets.Button(description='Classify')\n",
        "out_pl = widgets.Output()\n",
        "def on_click_classify(change):\n",
        "  img = PILImage.create(btn_upload.data[-1])\n",
        "  out_pl.clear_output()\n",
        "  with out_pl : display(img.to_thumb(128,128))\n",
        "  pred, pred_idx, probs = inference.predict(img)\n",
        "  lbl_pred.value = f'Prediction: {pred}; Probability: {probs[pred_idx]:.04f}'\n",
        "\n",
        "btn_run.on_click(on_click_classify)\n",
        "widgets.VBox([widgets.Label('Select your number!'),\n",
        "              btn_upload, btn_run, out_pl, lbl_pred])"
      ],
      "execution_count": 7,
      "outputs": [
        {
          "output_type": "display_data",
          "data": {
            "application/vnd.jupyter.widget-view+json": {
              "model_id": "0516d2305f694ff586cb1f615a300a49",
              "version_minor": 0,
              "version_major": 2
            },
            "text/plain": [
              "VBox(children=(Label(value='Select your number!'), FileUpload(value={}, description='Upload'), Button(descript…"
            ]
          },
          "metadata": {
            "tags": []
          }
        },
        {
          "output_type": "display_data",
          "data": {
            "text/html": [
              ""
            ],
            "text/plain": [
              "<IPython.core.display.HTML object>"
            ]
          },
          "metadata": {
            "tags": []
          }
        }
      ]
    }
  ]
}