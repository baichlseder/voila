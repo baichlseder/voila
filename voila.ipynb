{
  "nbformat": 4,
  "nbformat_minor": 0,
  "metadata": {
    "colab": {
      "name": "voila.ipynb",
      "provenance": [],
      "collapsed_sections": [],
      "toc_visible": true,
      "mount_file_id": "1G5d_CqAfO0DlU0qWoxTZeDL7LtwcKtzS",
      "authorship_tag": "ABX9TyOdf4EZoVxpVDLSjtcyIoEG",
      "include_colab_link": true
    },
    "kernelspec": {
      "name": "python3",
      "display_name": "Python 3"
    },
    "language_info": {
      "name": "python"
    },
    "widgets": {
      "application/vnd.jupyter.widget-state+json": {
        "6e2a178358ac46fbaa2994faf280f38a": {
          "model_module": "@jupyter-widgets/controls",
          "model_name": "VBoxModel",
          "state": {
            "_view_name": "VBoxView",
            "_dom_classes": [],
            "_model_name": "VBoxModel",
            "_view_module": "@jupyter-widgets/controls",
            "_model_module_version": "1.5.0",
            "_view_count": null,
            "_view_module_version": "1.5.0",
            "box_style": "",
            "layout": "IPY_MODEL_0d9683d27551423c80549499e93f1f08",
            "_model_module": "@jupyter-widgets/controls",
            "children": [
              "IPY_MODEL_ab300ee3e2f94a3c92c46401008b9def",
              "IPY_MODEL_3a976eaf4388450fb45c689a08084f1f",
              "IPY_MODEL_e12ad38ee68a48b2ad0a2fd4e943e708",
              "IPY_MODEL_40596c4c8c214e9aad22aad3f6a0781d",
              "IPY_MODEL_a6cbb7e1154e4befa6430b5407aca01b"
            ]
          }
        },
        "0d9683d27551423c80549499e93f1f08": {
          "model_module": "@jupyter-widgets/base",
          "model_name": "LayoutModel",
          "state": {
            "_view_name": "LayoutView",
            "grid_template_rows": null,
            "right": null,
            "justify_content": null,
            "_view_module": "@jupyter-widgets/base",
            "overflow": null,
            "_model_module_version": "1.2.0",
            "_view_count": null,
            "flex_flow": null,
            "width": null,
            "min_width": null,
            "border": null,
            "align_items": null,
            "bottom": null,
            "_model_module": "@jupyter-widgets/base",
            "top": null,
            "grid_column": null,
            "overflow_y": null,
            "overflow_x": null,
            "grid_auto_flow": null,
            "grid_area": null,
            "grid_template_columns": null,
            "flex": null,
            "_model_name": "LayoutModel",
            "justify_items": null,
            "grid_row": null,
            "max_height": null,
            "align_content": null,
            "visibility": null,
            "align_self": null,
            "height": null,
            "min_height": null,
            "padding": null,
            "grid_auto_rows": null,
            "grid_gap": null,
            "max_width": null,
            "order": null,
            "_view_module_version": "1.2.0",
            "grid_template_areas": null,
            "object_position": null,
            "object_fit": null,
            "grid_auto_columns": null,
            "margin": null,
            "display": null,
            "left": null
          }
        },
        "ab300ee3e2f94a3c92c46401008b9def": {
          "model_module": "@jupyter-widgets/controls",
          "model_name": "LabelModel",
          "state": {
            "_view_name": "LabelView",
            "style": "IPY_MODEL_74e7747d30744952b2b6a142a0ef4027",
            "_dom_classes": [],
            "description": "",
            "_model_name": "LabelModel",
            "placeholder": "​",
            "_view_module": "@jupyter-widgets/controls",
            "_model_module_version": "1.5.0",
            "value": "Select your number!",
            "_view_count": null,
            "_view_module_version": "1.5.0",
            "description_tooltip": null,
            "_model_module": "@jupyter-widgets/controls",
            "layout": "IPY_MODEL_c553c91e9dda4be99fc243e9cac66a5c"
          }
        },
        "3a976eaf4388450fb45c689a08084f1f": {
          "model_module": "@jupyter-widgets/controls",
          "model_name": "FileUploadModel",
          "state": {
            "_view_name": "FileUploadView",
            "_counter": 2,
            "style": "IPY_MODEL_8c5c35725b8b42d08d3a0ac0830e34c3",
            "_dom_classes": [],
            "description": "Upload",
            "multiple": false,
            "_model_name": "FileUploadModel",
            "data": [
              null
            ],
            "button_style": "",
            "_view_module": "@jupyter-widgets/controls",
            "_model_module_version": "1.5.0",
            "accept": "",
            "_view_count": null,
            "disabled": false,
            "_view_module_version": "1.5.0",
            "error": "",
            "description_tooltip": null,
            "metadata": [
              {
                "name": "1.PNG",
                "type": "image/png",
                "size": 165230,
                "lastModified": 1618499190241
              }
            ],
            "_model_module": "@jupyter-widgets/controls",
            "layout": "IPY_MODEL_7600672d7a95489f90b7766e69ad223d",
            "icon": "upload"
          }
        },
        "e12ad38ee68a48b2ad0a2fd4e943e708": {
          "model_module": "@jupyter-widgets/controls",
          "model_name": "ButtonModel",
          "state": {
            "_view_name": "ButtonView",
            "style": "IPY_MODEL_8ec53c80bb544a93ac801f7d4c5b077a",
            "_dom_classes": [],
            "description": "Classify",
            "_model_name": "ButtonModel",
            "button_style": "",
            "_view_module": "@jupyter-widgets/controls",
            "_model_module_version": "1.5.0",
            "tooltip": "",
            "_view_count": null,
            "disabled": false,
            "_view_module_version": "1.5.0",
            "layout": "IPY_MODEL_eb1b123b647a48e2af69e120065ec8be",
            "_model_module": "@jupyter-widgets/controls",
            "icon": ""
          }
        },
        "40596c4c8c214e9aad22aad3f6a0781d": {
          "model_module": "@jupyter-widgets/output",
          "model_name": "OutputModel",
          "state": {
            "_view_name": "OutputView",
            "msg_id": "",
            "_dom_classes": [],
            "_model_name": "OutputModel",
            "outputs": [
              {
                "output_type": "display_data",
                "metadata": {
                  "tags": []
                },
                "image/png": "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\n",
                "text/plain": "<PIL.Image.Image image mode=RGB size=128x125 at 0x7F1669EBB710>"
              }
            ],
            "_view_module": "@jupyter-widgets/output",
            "_model_module_version": "1.0.0",
            "_view_count": null,
            "_view_module_version": "1.0.0",
            "layout": "IPY_MODEL_dfc2df1d770940acac5f43b14c2bb4e0",
            "_model_module": "@jupyter-widgets/output"
          }
        },
        "a6cbb7e1154e4befa6430b5407aca01b": {
          "model_module": "@jupyter-widgets/controls",
          "model_name": "LabelModel",
          "state": {
            "_view_name": "LabelView",
            "style": "IPY_MODEL_b6ca23eda5ed4e63bae5d6e4722f0308",
            "_dom_classes": [],
            "description": "",
            "_model_name": "LabelModel",
            "placeholder": "​",
            "_view_module": "@jupyter-widgets/controls",
            "_model_module_version": "1.5.0",
            "value": "Prediction: 1; Probability: 0.9993",
            "_view_count": null,
            "_view_module_version": "1.5.0",
            "description_tooltip": null,
            "_model_module": "@jupyter-widgets/controls",
            "layout": "IPY_MODEL_5c9e0aee319541c98bc949d93ae59fdf"
          }
        },
        "74e7747d30744952b2b6a142a0ef4027": {
          "model_module": "@jupyter-widgets/controls",
          "model_name": "DescriptionStyleModel",
          "state": {
            "_view_name": "StyleView",
            "_model_name": "DescriptionStyleModel",
            "description_width": "",
            "_view_module": "@jupyter-widgets/base",
            "_model_module_version": "1.5.0",
            "_view_count": null,
            "_view_module_version": "1.2.0",
            "_model_module": "@jupyter-widgets/controls"
          }
        },
        "c553c91e9dda4be99fc243e9cac66a5c": {
          "model_module": "@jupyter-widgets/base",
          "model_name": "LayoutModel",
          "state": {
            "_view_name": "LayoutView",
            "grid_template_rows": null,
            "right": null,
            "justify_content": null,
            "_view_module": "@jupyter-widgets/base",
            "overflow": null,
            "_model_module_version": "1.2.0",
            "_view_count": null,
            "flex_flow": null,
            "width": null,
            "min_width": null,
            "border": null,
            "align_items": null,
            "bottom": null,
            "_model_module": "@jupyter-widgets/base",
            "top": null,
            "grid_column": null,
            "overflow_y": null,
            "overflow_x": null,
            "grid_auto_flow": null,
            "grid_area": null,
            "grid_template_columns": null,
            "flex": null,
            "_model_name": "LayoutModel",
            "justify_items": null,
            "grid_row": null,
            "max_height": null,
            "align_content": null,
            "visibility": null,
            "align_self": null,
            "height": null,
            "min_height": null,
            "padding": null,
            "grid_auto_rows": null,
            "grid_gap": null,
            "max_width": null,
            "order": null,
            "_view_module_version": "1.2.0",
            "grid_template_areas": null,
            "object_position": null,
            "object_fit": null,
            "grid_auto_columns": null,
            "margin": null,
            "display": null,
            "left": null
          }
        },
        "8c5c35725b8b42d08d3a0ac0830e34c3": {
          "model_module": "@jupyter-widgets/controls",
          "model_name": "ButtonStyleModel",
          "state": {
            "_view_name": "StyleView",
            "_model_name": "ButtonStyleModel",
            "_view_module": "@jupyter-widgets/base",
            "_model_module_version": "1.5.0",
            "_view_count": null,
            "button_color": null,
            "font_weight": "",
            "_view_module_version": "1.2.0",
            "_model_module": "@jupyter-widgets/controls"
          }
        },
        "7600672d7a95489f90b7766e69ad223d": {
          "model_module": "@jupyter-widgets/base",
          "model_name": "LayoutModel",
          "state": {
            "_view_name": "LayoutView",
            "grid_template_rows": null,
            "right": null,
            "justify_content": null,
            "_view_module": "@jupyter-widgets/base",
            "overflow": null,
            "_model_module_version": "1.2.0",
            "_view_count": null,
            "flex_flow": null,
            "width": null,
            "min_width": null,
            "border": null,
            "align_items": null,
            "bottom": null,
            "_model_module": "@jupyter-widgets/base",
            "top": null,
            "grid_column": null,
            "overflow_y": null,
            "overflow_x": null,
            "grid_auto_flow": null,
            "grid_area": null,
            "grid_template_columns": null,
            "flex": null,
            "_model_name": "LayoutModel",
            "justify_items": null,
            "grid_row": null,
            "max_height": null,
            "align_content": null,
            "visibility": null,
            "align_self": null,
            "height": null,
            "min_height": null,
            "padding": null,
            "grid_auto_rows": null,
            "grid_gap": null,
            "max_width": null,
            "order": null,
            "_view_module_version": "1.2.0",
            "grid_template_areas": null,
            "object_position": null,
            "object_fit": null,
            "grid_auto_columns": null,
            "margin": null,
            "display": null,
            "left": null
          }
        },
        "8ec53c80bb544a93ac801f7d4c5b077a": {
          "model_module": "@jupyter-widgets/controls",
          "model_name": "ButtonStyleModel",
          "state": {
            "_view_name": "StyleView",
            "_model_name": "ButtonStyleModel",
            "_view_module": "@jupyter-widgets/base",
            "_model_module_version": "1.5.0",
            "_view_count": null,
            "button_color": null,
            "font_weight": "",
            "_view_module_version": "1.2.0",
            "_model_module": "@jupyter-widgets/controls"
          }
        },
        "eb1b123b647a48e2af69e120065ec8be": {
          "model_module": "@jupyter-widgets/base",
          "model_name": "LayoutModel",
          "state": {
            "_view_name": "LayoutView",
            "grid_template_rows": null,
            "right": null,
            "justify_content": null,
            "_view_module": "@jupyter-widgets/base",
            "overflow": null,
            "_model_module_version": "1.2.0",
            "_view_count": null,
            "flex_flow": null,
            "width": null,
            "min_width": null,
            "border": null,
            "align_items": null,
            "bottom": null,
            "_model_module": "@jupyter-widgets/base",
            "top": null,
            "grid_column": null,
            "overflow_y": null,
            "overflow_x": null,
            "grid_auto_flow": null,
            "grid_area": null,
            "grid_template_columns": null,
            "flex": null,
            "_model_name": "LayoutModel",
            "justify_items": null,
            "grid_row": null,
            "max_height": null,
            "align_content": null,
            "visibility": null,
            "align_self": null,
            "height": null,
            "min_height": null,
            "padding": null,
            "grid_auto_rows": null,
            "grid_gap": null,
            "max_width": null,
            "order": null,
            "_view_module_version": "1.2.0",
            "grid_template_areas": null,
            "object_position": null,
            "object_fit": null,
            "grid_auto_columns": null,
            "margin": null,
            "display": null,
            "left": null
          }
        },
        "b6ca23eda5ed4e63bae5d6e4722f0308": {
          "model_module": "@jupyter-widgets/controls",
          "model_name": "DescriptionStyleModel",
          "state": {
            "_view_name": "StyleView",
            "_model_name": "DescriptionStyleModel",
            "description_width": "",
            "_view_module": "@jupyter-widgets/base",
            "_model_module_version": "1.5.0",
            "_view_count": null,
            "_view_module_version": "1.2.0",
            "_model_module": "@jupyter-widgets/controls"
          }
        },
        "5c9e0aee319541c98bc949d93ae59fdf": {
          "model_module": "@jupyter-widgets/base",
          "model_name": "LayoutModel",
          "state": {
            "_view_name": "LayoutView",
            "grid_template_rows": null,
            "right": null,
            "justify_content": null,
            "_view_module": "@jupyter-widgets/base",
            "overflow": null,
            "_model_module_version": "1.2.0",
            "_view_count": null,
            "flex_flow": null,
            "width": null,
            "min_width": null,
            "border": null,
            "align_items": null,
            "bottom": null,
            "_model_module": "@jupyter-widgets/base",
            "top": null,
            "grid_column": null,
            "overflow_y": null,
            "overflow_x": null,
            "grid_auto_flow": null,
            "grid_area": null,
            "grid_template_columns": null,
            "flex": null,
            "_model_name": "LayoutModel",
            "justify_items": null,
            "grid_row": null,
            "max_height": null,
            "align_content": null,
            "visibility": null,
            "align_self": null,
            "height": null,
            "min_height": null,
            "padding": null,
            "grid_auto_rows": null,
            "grid_gap": null,
            "max_width": null,
            "order": null,
            "_view_module_version": "1.2.0",
            "grid_template_areas": null,
            "object_position": null,
            "object_fit": null,
            "grid_auto_columns": null,
            "margin": null,
            "display": null,
            "left": null
          }
        },
        "dfc2df1d770940acac5f43b14c2bb4e0": {
          "model_module": "@jupyter-widgets/base",
          "model_name": "LayoutModel",
          "state": {
            "_view_name": "LayoutView",
            "grid_template_rows": null,
            "right": null,
            "justify_content": null,
            "_view_module": "@jupyter-widgets/base",
            "overflow": null,
            "_model_module_version": "1.2.0",
            "_view_count": null,
            "flex_flow": null,
            "width": null,
            "min_width": null,
            "border": null,
            "align_items": null,
            "bottom": null,
            "_model_module": "@jupyter-widgets/base",
            "top": null,
            "grid_column": null,
            "overflow_y": null,
            "overflow_x": null,
            "grid_auto_flow": null,
            "grid_area": null,
            "grid_template_columns": null,
            "flex": null,
            "_model_name": "LayoutModel",
            "justify_items": null,
            "grid_row": null,
            "max_height": null,
            "align_content": null,
            "visibility": null,
            "align_self": null,
            "height": null,
            "min_height": null,
            "padding": null,
            "grid_auto_rows": null,
            "grid_gap": null,
            "max_width": null,
            "order": null,
            "_view_module_version": "1.2.0",
            "grid_template_areas": null,
            "object_position": null,
            "object_fit": null,
            "grid_auto_columns": null,
            "margin": null,
            "display": null,
            "left": null
          }
        }
      }
    }
  },
  "cells": [
    {
      "cell_type": "markdown",
      "metadata": {
        "id": "view-in-github",
        "colab_type": "text"
      },
      "source": [
        "<a href=\"https://colab.research.google.com/github/baichlseder/voila/blob/main/voila.ipynb\" target=\"_parent\"><img src=\"https://colab.research.google.com/assets/colab-badge.svg\" alt=\"Open In Colab\"/></a>"
      ]
    },
    {
      "cell_type": "code",
      "metadata": {
        "id": "Cfu0NuaAzdb7"
      },
      "source": [
        "!pip install fastai --upgrade -q"
      ],
      "execution_count": 11,
      "outputs": []
    },
    {
      "cell_type": "code",
      "metadata": {
        "id": "WBGXhIHazjTm"
      },
      "source": [
        "from fastai.vision.all import *\n",
        "import ipywidgets as widgets\n",
        "import requests"
      ],
      "execution_count": 12,
      "outputs": []
    },
    {
      "cell_type": "code",
      "metadata": {
        "id": "hNoJZA9Dzphi"
      },
      "source": [
        "def download_file_from_google_drive(id, destination):\n",
        "    URL = \"https://docs.google.com/uc?export=download\"\n",
        "    session = requests.Session()\n",
        "    response = session.get(URL, params = { 'id' : id }, stream = True)\n",
        "    token = get_confirm_token(response)\n",
        "    if token:\n",
        "      params = { 'id' : id, 'confirm' : token }\n",
        "      response = session.get(URL, params = params, stream = True)\n",
        "    save_response_content(response, destination)\n",
        "    \n",
        "def get_confirm_token(response):\n",
        "    for key, value in response.cookies.items():\n",
        "        if key.startswith('download_warning'):\n",
        "            return value\n",
        "\n",
        "    return None\n",
        "\n",
        "def save_response_content(response, destination):\n",
        "    CHUNK_SIZE = 32768\n",
        "\n",
        "    with open(destination, \"wb\") as f:\n",
        "        for chunk in response.iter_content(CHUNK_SIZE):\n",
        "            if chunk: # filter out keep-alive new chunks\n",
        "                f.write(chunk)"
      ],
      "execution_count": 13,
      "outputs": []
    },
    {
      "cell_type": "code",
      "metadata": {
        "id": "AkyPY-2I01Ut"
      },
      "source": [
        "file_id = 'OujMPsJ5fPGSaCkoHQiJKiemcMyzOyK'\n",
        "destination = './handwritting_classifier.pkl'\n",
        "download_file_from_google_drive(file_id, destination)"
      ],
      "execution_count": 15,
      "outputs": []
    },
    {
      "cell_type": "markdown",
      "metadata": {
        "id": "5RRzC7Ry4XmA"
      },
      "source": [
        "## Classifier zu Nummern\n",
        "Es werden alle Zahlen von 0 bis 9 erkannt:\n",
        "  * 0\n",
        "  * 1\n",
        "  * 2\n",
        "  * 3\n",
        "  * 4\n",
        "  * 5\n",
        "  * 6\n",
        "  * 7\n",
        "  * 8\n",
        "  * 9"
      ]
    },
    {
      "cell_type": "code",
      "metadata": {
        "id": "lU9qu_Cb183l"
      },
      "source": [
        "path = Path()\n",
        "inference = load_learner(path/'sample_data/handwritting_classifier.pkl', cpu=true)"
      ],
      "execution_count": 16,
      "outputs": []
    },
    {
      "cell_type": "code",
      "metadata": {
        "colab": {
          "base_uri": "https://localhost:8080/",
          "height": 270,
          "referenced_widgets": [
            "6e2a178358ac46fbaa2994faf280f38a",
            "0d9683d27551423c80549499e93f1f08",
            "ab300ee3e2f94a3c92c46401008b9def",
            "3a976eaf4388450fb45c689a08084f1f",
            "e12ad38ee68a48b2ad0a2fd4e943e708",
            "40596c4c8c214e9aad22aad3f6a0781d",
            "a6cbb7e1154e4befa6430b5407aca01b",
            "74e7747d30744952b2b6a142a0ef4027",
            "c553c91e9dda4be99fc243e9cac66a5c",
            "8c5c35725b8b42d08d3a0ac0830e34c3",
            "7600672d7a95489f90b7766e69ad223d",
            "8ec53c80bb544a93ac801f7d4c5b077a",
            "eb1b123b647a48e2af69e120065ec8be",
            "b6ca23eda5ed4e63bae5d6e4722f0308",
            "5c9e0aee319541c98bc949d93ae59fdf",
            "dfc2df1d770940acac5f43b14c2bb4e0"
          ]
        },
        "id": "1pzaW_l32fpK",
        "outputId": "affb1217-22e4-4e19-8eb3-7c9c8001a830"
      },
      "source": [
        "btn_upload = widgets.FileUpload()\n",
        "lbl_pred = widgets.Label()\n",
        "btn_run = widgets.Button(description='Classify')\n",
        "out_pl = widgets.Output()\n",
        "def on_click_classify(change):\n",
        "  img = PILImage.create(btn_upload.data[-1])\n",
        "  out_pl.clear_output()\n",
        "  with out_pl : display(img.to_thumb(128,128))\n",
        "  pred, pred_idx, probs = inference.predict(img)\n",
        "  lbl_pred.value = f'Prediction: {pred}; Probability: {probs[pred_idx]:.04f}'\n",
        "\n",
        "btn_run.on_click(on_click_classify)\n",
        "widgets.VBox([widgets.Label('Select your number!'),\n",
        "              btn_upload, btn_run, out_pl, lbl_pred])"
      ],
      "execution_count": 17,
      "outputs": [
        {
          "output_type": "display_data",
          "data": {
            "application/vnd.jupyter.widget-view+json": {
              "model_id": "6e2a178358ac46fbaa2994faf280f38a",
              "version_minor": 0,
              "version_major": 2
            },
            "text/plain": [
              "VBox(children=(Label(value='Select your number!'), FileUpload(value={}, description='Upload'), Button(descript…"
            ]
          },
          "metadata": {
            "tags": []
          }
        },
        {
          "output_type": "display_data",
          "data": {
            "text/html": [
              ""
            ],
            "text/plain": [
              "<IPython.core.display.HTML object>"
            ]
          },
          "metadata": {
            "tags": []
          }
        },
        {
          "output_type": "display_data",
          "data": {
            "text/html": [
              ""
            ],
            "text/plain": [
              "<IPython.core.display.HTML object>"
            ]
          },
          "metadata": {
            "tags": []
          }
        }
      ]
    }
  ]
}